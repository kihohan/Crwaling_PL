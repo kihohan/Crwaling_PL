{
 "cells": [
  {
   "cell_type": "code",
   "execution_count": 1,
   "metadata": {},
   "outputs": [],
   "source": [
    "import os\n",
    "import pandas as pd\n",
    "import urllib.request\n",
    "from selenium import webdriver\n",
    "from bs4 import BeautifulSoup as bs\n",
    "import time\n",
    "from selenium.webdriver.common.keys import Keys\n",
    "from tqdm import tqdm_notebook"
   ]
  },
  {
   "cell_type": "code",
   "execution_count": 2,
   "metadata": {},
   "outputs": [
    {
     "name": "stdout",
     "output_type": "stream",
     "text": [
      "키워드: emotionreplay\n"
     ]
    }
   ],
   "source": [
    "keyword = str(input('키워드: '))"
   ]
  },
  {
   "cell_type": "code",
   "execution_count": null,
   "metadata": {},
   "outputs": [],
   "source": [
    "chromedriver_dir = '/Users/hankiho/Downloads/chromedriver'\n",
    "driver = webdriver.Chrome(chromedriver_dir)\n",
    "driver.get(\"https://www.instagram.com/explore/tags/\" + keyword + \"/\")"
   ]
  },
  {
   "cell_type": "code",
   "execution_count": 19,
   "metadata": {},
   "outputs": [
    {
     "name": "stdout",
     "output_type": "stream",
     "text": [
      "totalCount : 19,328\n"
     ]
    }
   ],
   "source": [
    "totalCount = driver.find_element_by_class_name('g47SY').text\n",
    "time.sleep(1)\n",
    "print(\"totalCount :\", totalCount)"
   ]
  },
  {
   "cell_type": "code",
   "execution_count": 20,
   "metadata": {},
   "outputs": [],
   "source": [
    "#저장 경로 정해주기\n",
    "result_route = \"/Users/hankiho/Desktop/사업/nomodels/\"\n",
    "if not os.path.isdir(result_route):\n",
    "    os.makedirs(result_route)"
   ]
  },
  {
   "cell_type": "code",
   "execution_count": 21,
   "metadata": {},
   "outputs": [],
   "source": [
    "driver.find_element_by_class_name('_9AhH0').click() #첫번째 포스트 클릭"
   ]
  },
  {
   "cell_type": "code",
   "execution_count": 22,
   "metadata": {},
   "outputs": [
    {
     "data": {
      "text/plain": [
       "('/Users/hankiho/Desktop/사업/nomodels/hainaonlyone.png',\n",
       " <http.client.HTTPMessage at 0x11e451400>)"
      ]
     },
     "execution_count": 22,
     "metadata": {},
     "output_type": "execute_result"
    }
   ],
   "source": [
    "soup = bs(driver.page_source,'html.parser')\n",
    "instagram_id = soup.find('a', class_='FPmhX notranslate nJAzx').text\n",
    "\n",
    "image_obj = soup.find('div',class_ = 'eLAPa kPFhm')\n",
    "image_url = image_obj.find('img', class_ = 'FFVAD')['src']\n",
    "\n",
    "outfile = instagram_id + '.png'\n",
    "urllib.request.urlretrieve(image_url, result_route + outfile)"
   ]
  },
  {
   "cell_type": "code",
   "execution_count": 24,
   "metadata": {},
   "outputs": [],
   "source": [
    "driver.find_element_by_xpath('/html/body/div[3]/div[1]/div/div/a').click() #두번쨰 포스터 넘기기"
   ]
  },
  {
   "cell_type": "code",
   "execution_count": 25,
   "metadata": {},
   "outputs": [
    {
     "ename": "AttributeError",
     "evalue": "'NoneType' object has no attribute 'find'",
     "output_type": "error",
     "traceback": [
      "\u001b[0;31m---------------------------------------------------------------------------\u001b[0m",
      "\u001b[0;31mAttributeError\u001b[0m                            Traceback (most recent call last)",
      "\u001b[0;32m<ipython-input-25-199968eea26d>\u001b[0m in \u001b[0;36m<module>\u001b[0;34m\u001b[0m\n\u001b[1;32m      3\u001b[0m \u001b[0;34m\u001b[0m\u001b[0m\n\u001b[1;32m      4\u001b[0m \u001b[0mimage_obj\u001b[0m \u001b[0;34m=\u001b[0m \u001b[0msoup\u001b[0m\u001b[0;34m.\u001b[0m\u001b[0mfind\u001b[0m\u001b[0;34m(\u001b[0m\u001b[0;34m'div'\u001b[0m\u001b[0;34m,\u001b[0m\u001b[0mclass_\u001b[0m \u001b[0;34m=\u001b[0m \u001b[0;34m'eLAPa kPFhm'\u001b[0m\u001b[0;34m)\u001b[0m\u001b[0;34m\u001b[0m\u001b[0;34m\u001b[0m\u001b[0m\n\u001b[0;32m----> 5\u001b[0;31m \u001b[0mimage_url\u001b[0m \u001b[0;34m=\u001b[0m \u001b[0mimage_obj\u001b[0m\u001b[0;34m.\u001b[0m\u001b[0mfind\u001b[0m\u001b[0;34m(\u001b[0m\u001b[0;34m'img'\u001b[0m\u001b[0;34m,\u001b[0m \u001b[0mclass_\u001b[0m \u001b[0;34m=\u001b[0m \u001b[0;34m'FFVAD'\u001b[0m\u001b[0;34m)\u001b[0m\u001b[0;34m[\u001b[0m\u001b[0;34m'src'\u001b[0m\u001b[0;34m]\u001b[0m\u001b[0;34m\u001b[0m\u001b[0;34m\u001b[0m\u001b[0m\n\u001b[0m\u001b[1;32m      6\u001b[0m \u001b[0;34m\u001b[0m\u001b[0m\n\u001b[1;32m      7\u001b[0m \u001b[0moutfile\u001b[0m \u001b[0;34m=\u001b[0m \u001b[0minstagram_id\u001b[0m \u001b[0;34m+\u001b[0m \u001b[0;34m'.png'\u001b[0m\u001b[0;34m\u001b[0m\u001b[0;34m\u001b[0m\u001b[0m\n",
      "\u001b[0;31mAttributeError\u001b[0m: 'NoneType' object has no attribute 'find'"
     ]
    }
   ],
   "source": [
    "soup = bs(driver.page_source,'html.parser')\n",
    "instagram_id = soup.find('a', class_='FPmhX notranslate nJAzx').text\n",
    "\n",
    "image_obj = soup.find('div',class_ = 'eLAPa kPFhm')\n",
    "image_url = image_obj.find('img', class_ = 'FFVAD')['src']\n",
    "\n",
    "outfile = instagram_id + '.png'\n",
    "urllib.request.urlretrieve(image_url, result_route + outfile)"
   ]
  },
  {
   "cell_type": "code",
   "execution_count": 11,
   "metadata": {},
   "outputs": [
    {
     "data": {
      "application/vnd.jupyter.widget-view+json": {
       "model_id": "1405c943827647959364a00b4f7d7517",
       "version_major": 2,
       "version_minor": 0
      },
      "text/plain": [
       "HBox(children=(IntProgress(value=0, max=10), HTML(value='')))"
      ]
     },
     "metadata": {},
     "output_type": "display_data"
    },
    {
     "name": "stdout",
     "output_type": "stream",
     "text": [
      "-----------에러-----------\n",
      "\n"
     ]
    }
   ],
   "source": [
    "i = 0\n",
    "for i in tqdm_notebook(range(10)):\n",
    "    try:\n",
    "        for n in range(10): \n",
    "            if i == (n + 1) * 10000: \n",
    "                print (i,'개 포스팅까지 크롤링 되었습니다.')\n",
    "                time.sleep(300)\n",
    "        driver.find_element_by_xpath('/html/body/div[3]/div[1]/div/div/a[2]').click() #두번쨰 포스터 넘기기\n",
    "        time.sleep(5)\n",
    "        \n",
    "        soup = bs(driver.page_source,'html.parser')\n",
    "        instagram_id = soup.find('a', class_='FPmhX notranslate nJAzx').text\n",
    "\n",
    "        image_obj = soup.find('div',class_ = 'eLAPa kPFhm')\n",
    "        image_url = image_obj.find('img', class_ = 'FFVAD')['src']\n",
    "\n",
    "        outfile = instagram_id + '.png'\n",
    "        urllib.request.urlretrieve(image_url, result_route + outfile)\n",
    "    except:\n",
    "        time.sleep(10)\n",
    "        print ('-----------에러-----------')\n",
    "        pass"
   ]
  },
  {
   "cell_type": "code",
   "execution_count": null,
   "metadata": {},
   "outputs": [],
   "source": []
  }
 ],
 "metadata": {
  "kernelspec": {
   "display_name": "Python 3",
   "language": "python",
   "name": "python3"
  },
  "language_info": {
   "codemirror_mode": {
    "name": "ipython",
    "version": 3
   },
   "file_extension": ".py",
   "mimetype": "text/x-python",
   "name": "python",
   "nbconvert_exporter": "python",
   "pygments_lexer": "ipython3",
   "version": "3.6.8"
  }
 },
 "nbformat": 4,
 "nbformat_minor": 2
}

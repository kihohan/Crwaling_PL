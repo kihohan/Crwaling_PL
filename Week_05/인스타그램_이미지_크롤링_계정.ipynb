{
 "cells": [
  {
   "cell_type": "code",
   "execution_count": 1,
   "metadata": {},
   "outputs": [],
   "source": [
    "import os\n",
    "import pandas as pd\n",
    "import urllib.request\n",
    "from selenium import webdriver\n",
    "from selenium.webdriver.common.by import By\n",
    "from selenium.webdriver.support.ui import WebDriverWait\n",
    "from selenium.webdriver.support import expected_conditions as EC\n",
    "from bs4 import BeautifulSoup as bs\n",
    "from selenium.webdriver.common.keys import Keys\n",
    "from tqdm import tqdm_notebook\n",
    "import time\n",
    "import random"
   ]
  },
  {
   "cell_type": "code",
   "execution_count": 2,
   "metadata": {},
   "outputs": [
    {
     "name": "stdout",
     "output_type": "stream",
     "text": [
      "계정: davico_\n"
     ]
    }
   ],
   "source": [
    "account = str(input('계정: '))"
   ]
  },
  {
   "cell_type": "code",
   "execution_count": 3,
   "metadata": {},
   "outputs": [],
   "source": [
    "chromedriver_dir = '/home/kiho/바탕화면/chromedriver'\n",
    "driver = webdriver.Chrome(chromedriver_dir)\n",
    "driver.get(\"https://www.instagram.com/\" + account + \"/\")"
   ]
  },
  {
   "cell_type": "code",
   "execution_count": 4,
   "metadata": {},
   "outputs": [
    {
     "name": "stdout",
     "output_type": "stream",
     "text": [
      "totalCount : 838\n"
     ]
    }
   ],
   "source": [
    "#계정에 포스터가 몇개 있는지확인\n",
    "totalCount = driver.find_element_by_class_name('g47SY').text\n",
    "time.sleep(0.1)\n",
    "print(\"totalCount :\", totalCount)"
   ]
  },
  {
   "cell_type": "code",
   "execution_count": 6,
   "metadata": {},
   "outputs": [],
   "source": [
    "#바탕화면에 저장 할 폴더 생성\n",
    "def make_folder(folder_name):\n",
    "    if not os.path.isdir(folder_name):\n",
    "        os.mkdir(folder_name)\n",
    "root_dir = '/home/kiho/바탕화면'\n",
    "work_dir = root_dir + '/' + account\n",
    "make_folder(work_dir)"
   ]
  },
  {
   "cell_type": "code",
   "execution_count": 7,
   "metadata": {},
   "outputs": [],
   "source": [
    "#저장 경로 정해주기\n",
    "result_route = \"/home/kiho/바탕화면/\" + account + '/'\n",
    "if not os.path.isdir(result_route):\n",
    "    os.makedirs(result_route)"
   ]
  },
  {
   "cell_type": "code",
   "execution_count": 13,
   "metadata": {},
   "outputs": [],
   "source": [
    "driver.find_element_by_class_name('_9AhH0').click() #첫번째 포스트 클릭"
   ]
  },
  {
   "cell_type": "code",
   "execution_count": 9,
   "metadata": {},
   "outputs": [],
   "source": [
    "soup = bs(driver.page_source,'html.parser')\n",
    "\n",
    "like_obj = soup.find('div',class_ = 'Nm9Fw')\n",
    "like = like_obj.text\n",
    "\n",
    "inst_obj = soup.find('div', class_ = '_97aPb')\n",
    "\n",
    "try:\n",
    "    image_obj = inst_obj.find('div',class_ = 'eLAPa _23QFA')\n",
    "    image_url = image_obj.find('img', class_ = 'FFVAD')['src']\n",
    "    \n",
    "    outfile = like + '_' + str(random.randint(1, 10000)) + '.jpg'\n",
    "    urllib.request.urlretrieve(image_url, result_route + outfile)\n",
    "except:\n",
    "    image_obj_2 = inst_obj.find('div',class_ = 'eLAPa kPFhm')\n",
    "    image_url = image_obj_2.find('img', class_ = 'FFVAD')['src']\n",
    "\n",
    "    outfile = like + '_' + str(random.randint(1, 10000)) + '.jpg'\n",
    "    urllib.request.urlretrieve(image_url, result_route + outfile)"
   ]
  },
  {
   "cell_type": "code",
   "execution_count": 10,
   "metadata": {},
   "outputs": [],
   "source": [
    "def get_image1():\n",
    "    try:\n",
    "        soup = bs(driver.page_source,'html.parser')\n",
    "\n",
    "        like_obj = soup.find('div',class_ = 'Nm9Fw')\n",
    "        like = like_obj.text\n",
    "\n",
    "        inst_obj = soup.find('div', class_ = '_97aPb')\n",
    "        \n",
    "        image_obj = inst_obj.find('div',class_ = 'eLAPa _23QFA')\n",
    "        image_url = image_obj.find('img', class_ = 'FFVAD')['src']\n",
    "\n",
    "        outfile = like + '_' + str(random.randint(1, 10000)) + '.jpg'\n",
    "        urllib.request.urlretrieve(image_url, result_route + outfile)\n",
    "    except:\n",
    "        soup = bs(driver.page_source,'html.parser')\n",
    "\n",
    "        like_obj = soup.find('div',class_ = 'Nm9Fw')\n",
    "        like = like_obj.text\n",
    "\n",
    "        inst_obj = soup.find('div', class_ = '_97aPb')\n",
    "        \n",
    "        image_obj_2 = inst_obj.find('div',class_ = 'eLAPa kPFhm')\n",
    "        image_url = image_obj_2.find('img', class_ = 'FFVAD')['src']\n",
    "\n",
    "        outfile = like + '_' + str(random.randint(1, 10000)) + '.jpg'\n",
    "        urllib.request.urlretrieve(image_url, result_route + outfile)"
   ]
  },
  {
   "cell_type": "code",
   "execution_count": 11,
   "metadata": {},
   "outputs": [],
   "source": [
    "def get_image2():\n",
    "    soup = bs(driver.page_source,'html.parser')\n",
    "\n",
    "    like_obj = soup.find('div',class_ = 'Nm9Fw')\n",
    "    like = like_obj.text\n",
    "\n",
    "    inst_obj = soup.find('div', class_ = '_97aPb')\n",
    "        \n",
    "    image_obj_2 = inst_obj.find('div',class_ = 'eLAPa RzuR0')\n",
    "    image_url = image_obj_2.find('img', class_ = 'FFVAD')['src']\n",
    "\n",
    "    outfile = like + '_' + str(random.randint(1, 10000)) + '.jpg'\n",
    "    urllib.request.urlretrieve(image_url, result_route + outfile)"
   ]
  },
  {
   "cell_type": "code",
   "execution_count": 12,
   "metadata": {},
   "outputs": [],
   "source": [
    "def get_image():\n",
    "    try:\n",
    "        get_image1()\n",
    "    except:\n",
    "        get_image2()"
   ]
  },
  {
   "cell_type": "code",
   "execution_count": 14,
   "metadata": {},
   "outputs": [],
   "source": [
    "wait = WebDriverWait(driver, 10)\n",
    "next_post = wait.until(EC.presence_of_element_located((By.CSS_SELECTOR,'body > div._2dDPU.vCf6V > div.EfHg9 > div > div > a.HBoOv.coreSpriteRightPaginationArrow')))\n",
    "next_post.click() #다음 포스터 클릭"
   ]
  },
  {
   "cell_type": "code",
   "execution_count": 22,
   "metadata": {},
   "outputs": [],
   "source": [
    "get_image()"
   ]
  },
  {
   "cell_type": "code",
   "execution_count": 23,
   "metadata": {},
   "outputs": [],
   "source": [
    "next_post.click() #다음 포스터 클릭"
   ]
  },
  {
   "cell_type": "code",
   "execution_count": 24,
   "metadata": {},
   "outputs": [],
   "source": [
    "def get_video():\n",
    "    soup = bs(driver.page_source,'html.parser')\n",
    "    inst_obj = soup.find('div', class_ = '_97aPb')\n",
    "        \n",
    "    video = inst_obj.find('div', class_ = '_5wCQW')\n",
    "    video_live = video.find('video', class_ = 'tWeCl')['src'] #동영상\n",
    "    outfile = str(random.randint(1, 10000)) + '.mp4'\n",
    "    urllib.request.urlretrieve(video_live, result_route + outfile)"
   ]
  },
  {
   "cell_type": "code",
   "execution_count": 25,
   "metadata": {},
   "outputs": [],
   "source": [
    "get_video()"
   ]
  },
  {
   "cell_type": "code",
   "execution_count": 26,
   "metadata": {},
   "outputs": [],
   "source": [
    "def insta_crawler_iamge_video():\n",
    "    try:\n",
    "        get_image()\n",
    "    except:\n",
    "        get_video()"
   ]
  },
  {
   "cell_type": "code",
   "execution_count": 27,
   "metadata": {},
   "outputs": [],
   "source": [
    "next_post.click() #다음 포스터 클릭"
   ]
  },
  {
   "cell_type": "code",
   "execution_count": 28,
   "metadata": {},
   "outputs": [],
   "source": [
    "insta_crawler_iamge_video()"
   ]
  },
  {
   "cell_type": "code",
   "execution_count": 29,
   "metadata": {},
   "outputs": [],
   "source": [
    "def insta_crawler_final():\n",
    "    next_post.click()\n",
    "    try:\n",
    "        time.sleep(1)\n",
    "        insta_crawler_iamge_video()\n",
    "    except:\n",
    "        time.sleep(5)\n",
    "        insta_crawler_iamge_video()"
   ]
  },
  {
   "cell_type": "code",
   "execution_count": 30,
   "metadata": {},
   "outputs": [
    {
     "data": {
      "application/vnd.jupyter.widget-view+json": {
       "model_id": "5d9151df383e4b24963a8da11af51e47",
       "version_major": 2,
       "version_minor": 0
      },
      "text/plain": [
       "HBox(children=(IntProgress(value=0), HTML(value='')))"
      ]
     },
     "metadata": {},
     "output_type": "display_data"
    },
    {
     "name": "stdout",
     "output_type": "stream",
     "text": [
      "\n"
     ]
    }
   ],
   "source": [
    "for count in tqdm_notebook(range(100)):\n",
    "    try:\n",
    "        insta_crawler_final()\n",
    "    except:\n",
    "        time.sleep(10)\n",
    "        insta_crawler_final()"
   ]
  },
  {
   "cell_type": "code",
   "execution_count": null,
   "metadata": {},
   "outputs": [],
   "source": []
  }
 ],
 "metadata": {
  "kernelspec": {
   "display_name": "Python 3",
   "language": "python",
   "name": "python3"
  },
  "language_info": {
   "codemirror_mode": {
    "name": "ipython",
    "version": 3
   },
   "file_extension": ".py",
   "mimetype": "text/x-python",
   "name": "python",
   "nbconvert_exporter": "python",
   "pygments_lexer": "ipython3",
   "version": "3.7.3"
  }
 },
 "nbformat": 4,
 "nbformat_minor": 2
}

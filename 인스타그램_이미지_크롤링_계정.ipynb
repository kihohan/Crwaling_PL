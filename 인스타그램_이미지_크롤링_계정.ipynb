{
 "cells": [
  {
   "cell_type": "code",
   "execution_count": 1,
   "metadata": {},
   "outputs": [],
   "source": [
    "import os\n",
    "import pandas as pd\n",
    "import urllib.request\n",
    "from selenium import webdriver\n",
    "from selenium.webdriver.common.by import By\n",
    "from selenium.webdriver.support.ui import WebDriverWait\n",
    "from selenium.webdriver.support import expected_conditions as EC\n",
    "from bs4 import BeautifulSoup as bs\n",
    "from selenium.webdriver.common.keys import Keys\n",
    "from tqdm import tqdm_notebook\n",
    "import time\n",
    "import random"
   ]
  },
  {
   "cell_type": "code",
   "execution_count": 2,
   "metadata": {},
   "outputs": [
    {
     "name": "stdout",
     "output_type": "stream",
     "text": [
      "계정: vi_blabla\n"
     ]
    }
   ],
   "source": [
    "account = str(input('계정: '))"
   ]
  },
  {
   "cell_type": "code",
   "execution_count": 5,
   "metadata": {},
   "outputs": [],
   "source": [
    "chromedriver_dir = '/Users/hankiho/Downloads/chromedriver'\n",
    "driver = webdriver.Chrome(chromedriver_dir)\n",
    "driver.get(\"https://www.instagram.com/\" + account + \"/\")"
   ]
  },
  {
   "cell_type": "code",
   "execution_count": 6,
   "metadata": {},
   "outputs": [
    {
     "name": "stdout",
     "output_type": "stream",
     "text": [
      "totalCount : 2,328\n"
     ]
    }
   ],
   "source": [
    "totalCount = driver.find_element_by_class_name('g47SY').text\n",
    "time.sleep(0.1)\n",
    "print(\"totalCount :\", totalCount)"
   ]
  },
  {
   "cell_type": "code",
   "execution_count": 7,
   "metadata": {},
   "outputs": [],
   "source": [
    "#저장 경로 정해주기\n",
    "result_route = \"/Users/hankiho/Desktop/사업/vi_blabla/\"\n",
    "if not os.path.isdir(result_route):\n",
    "    os.makedirs(result_route)"
   ]
  },
  {
   "cell_type": "code",
   "execution_count": 8,
   "metadata": {},
   "outputs": [],
   "source": [
    "driver.find_element_by_class_name('_9AhH0').click() #첫번째 포스트 클릭"
   ]
  },
  {
   "cell_type": "code",
   "execution_count": null,
   "metadata": {},
   "outputs": [],
   "source": [
    "'''\n",
    "image_obj = inst_obj.find('div',class_ = 'eLAPa RzuR0')\n",
    "image_url = image_obj.find('img', class_ = 'FFVAD')['src']\n",
    "    \n",
    "outfile = like + '_' + str(random.randint(1, 10000)) + '.png'\n",
    "urllib.request.urlretrieve(image_url, result_route + outfile)\n",
    "'''"
   ]
  },
  {
   "cell_type": "code",
   "execution_count": 98,
   "metadata": {},
   "outputs": [
    {
     "ename": "AttributeError",
     "evalue": "'NoneType' object has no attribute 'find'",
     "output_type": "error",
     "traceback": [
      "\u001b[0;31m---------------------------------------------------------------------------\u001b[0m",
      "\u001b[0;31mAttributeError\u001b[0m                            Traceback (most recent call last)",
      "\u001b[0;32m<ipython-input-98-605a84f332e9>\u001b[0m in \u001b[0;36m<module>\u001b[0;34m\u001b[0m\n\u001b[1;32m      9\u001b[0m     \u001b[0mimage_obj\u001b[0m \u001b[0;34m=\u001b[0m \u001b[0minst_obj\u001b[0m\u001b[0;34m.\u001b[0m\u001b[0mfind\u001b[0m\u001b[0;34m(\u001b[0m\u001b[0;34m'div'\u001b[0m\u001b[0;34m,\u001b[0m\u001b[0mclass_\u001b[0m \u001b[0;34m=\u001b[0m \u001b[0;34m'eLAPa _23QFA'\u001b[0m\u001b[0;34m)\u001b[0m\u001b[0;34m\u001b[0m\u001b[0;34m\u001b[0m\u001b[0m\n\u001b[0;32m---> 10\u001b[0;31m     \u001b[0mimage_url\u001b[0m \u001b[0;34m=\u001b[0m \u001b[0mimage_obj\u001b[0m\u001b[0;34m.\u001b[0m\u001b[0mfind\u001b[0m\u001b[0;34m(\u001b[0m\u001b[0;34m'img'\u001b[0m\u001b[0;34m,\u001b[0m \u001b[0mclass_\u001b[0m \u001b[0;34m=\u001b[0m \u001b[0;34m'FFVAD'\u001b[0m\u001b[0;34m)\u001b[0m\u001b[0;34m[\u001b[0m\u001b[0;34m'src'\u001b[0m\u001b[0;34m]\u001b[0m\u001b[0;34m\u001b[0m\u001b[0;34m\u001b[0m\u001b[0m\n\u001b[0m\u001b[1;32m     11\u001b[0m \u001b[0;34m\u001b[0m\u001b[0m\n",
      "\u001b[0;31mAttributeError\u001b[0m: 'NoneType' object has no attribute 'find'",
      "\nDuring handling of the above exception, another exception occurred:\n",
      "\u001b[0;31mAttributeError\u001b[0m                            Traceback (most recent call last)",
      "\u001b[0;32m<ipython-input-98-605a84f332e9>\u001b[0m in \u001b[0;36m<module>\u001b[0;34m\u001b[0m\n\u001b[1;32m     14\u001b[0m \u001b[0;32mexcept\u001b[0m\u001b[0;34m:\u001b[0m\u001b[0;34m\u001b[0m\u001b[0;34m\u001b[0m\u001b[0m\n\u001b[1;32m     15\u001b[0m     \u001b[0mimage_obj_2\u001b[0m \u001b[0;34m=\u001b[0m \u001b[0minst_obj\u001b[0m\u001b[0;34m.\u001b[0m\u001b[0mfind\u001b[0m\u001b[0;34m(\u001b[0m\u001b[0;34m'div'\u001b[0m\u001b[0;34m,\u001b[0m\u001b[0mclass_\u001b[0m \u001b[0;34m=\u001b[0m \u001b[0;34m'eLAPa kPFhm'\u001b[0m\u001b[0;34m)\u001b[0m\u001b[0;34m\u001b[0m\u001b[0;34m\u001b[0m\u001b[0m\n\u001b[0;32m---> 16\u001b[0;31m     \u001b[0mimage_url\u001b[0m \u001b[0;34m=\u001b[0m \u001b[0mimage_obj_2\u001b[0m\u001b[0;34m.\u001b[0m\u001b[0mfind\u001b[0m\u001b[0;34m(\u001b[0m\u001b[0;34m'img'\u001b[0m\u001b[0;34m,\u001b[0m \u001b[0mclass_\u001b[0m \u001b[0;34m=\u001b[0m \u001b[0;34m'FFVAD'\u001b[0m\u001b[0;34m)\u001b[0m\u001b[0;34m[\u001b[0m\u001b[0;34m'src'\u001b[0m\u001b[0;34m]\u001b[0m\u001b[0;34m\u001b[0m\u001b[0;34m\u001b[0m\u001b[0m\n\u001b[0m\u001b[1;32m     17\u001b[0m \u001b[0;34m\u001b[0m\u001b[0m\n\u001b[1;32m     18\u001b[0m     \u001b[0moutfile\u001b[0m \u001b[0;34m=\u001b[0m \u001b[0mlike\u001b[0m \u001b[0;34m+\u001b[0m \u001b[0;34m'_'\u001b[0m \u001b[0;34m+\u001b[0m \u001b[0mstr\u001b[0m\u001b[0;34m(\u001b[0m\u001b[0mrandom\u001b[0m\u001b[0;34m.\u001b[0m\u001b[0mrandint\u001b[0m\u001b[0;34m(\u001b[0m\u001b[0;36m1\u001b[0m\u001b[0;34m,\u001b[0m \u001b[0;36m10000\u001b[0m\u001b[0;34m)\u001b[0m\u001b[0;34m)\u001b[0m \u001b[0;34m+\u001b[0m \u001b[0;34m'.png'\u001b[0m\u001b[0;34m\u001b[0m\u001b[0;34m\u001b[0m\u001b[0m\n",
      "\u001b[0;31mAttributeError\u001b[0m: 'NoneType' object has no attribute 'find'"
     ]
    }
   ],
   "source": [
    "soup = bs(driver.page_source,'html.parser')\n",
    "\n",
    "like_obj = soup.find('div',class_ = 'Nm9Fw')\n",
    "like = like_obj.text\n",
    "\n",
    "inst_obj = soup.find('div', class_ = '_97aPb')\n",
    "\n",
    "try:\n",
    "    image_obj = inst_obj.find('div',class_ = 'eLAPa _23QFA')\n",
    "    image_url = image_obj.find('img', class_ = 'FFVAD')['src']\n",
    "    \n",
    "    outfile = like + '_' + str(random.randint(1, 10000)) + '.png'\n",
    "    urllib.request.urlretrieve(image_url, result_route + outfile)\n",
    "except:\n",
    "    image_obj_2 = inst_obj.find('div',class_ = 'eLAPa kPFhm')\n",
    "    image_url = image_obj_2.find('img', class_ = 'FFVAD')['src']\n",
    "\n",
    "    outfile = like + '_' + str(random.randint(1, 10000)) + '.png'\n",
    "    urllib.request.urlretrieve(image_url, result_route + outfile)"
   ]
  },
  {
   "cell_type": "code",
   "execution_count": 11,
   "metadata": {},
   "outputs": [],
   "source": [
    "driver.find_element_by_xpath('/html/body/div[4]/div[1]/div/div/a').click() #첫번쨰 포스터 넘기기"
   ]
  },
  {
   "cell_type": "code",
   "execution_count": 14,
   "metadata": {},
   "outputs": [],
   "source": [
    "soup = bs(driver.page_source,'html.parser')\n",
    "\n",
    "like_obj = soup.find('div',class_ = 'Nm9Fw')\n",
    "like = like_obj.text\n",
    "\n",
    "inst_obj = soup.find('div', class_ = '_97aPb')\n",
    "\n",
    "try:\n",
    "    image_obj = inst_obj.find('div',class_ = 'eLAPa _23QFA')\n",
    "    image_url = image_obj.find('img', class_ = 'FFVAD')['src']\n",
    "    \n",
    "    outfile = like + '_' + str(random.randint(1, 10000)) + '.png'\n",
    "    urllib.request.urlretrieve(image_url, result_route + outfile)\n",
    "except:\n",
    "    image_obj_2 = inst_obj.find('div',class_ = 'eLAPa kPFhm')\n",
    "    image_url = image_obj_2.find('img', class_ = 'FFVAD')['src']\n",
    "\n",
    "    outfile = like + '_' + str(random.randint(1, 10000)) + '.png'\n",
    "    urllib.request.urlretrieve(image_url, result_route + outfile)"
   ]
  },
  {
   "cell_type": "code",
   "execution_count": 15,
   "metadata": {},
   "outputs": [],
   "source": [
    "def get_image():\n",
    "    try:\n",
    "        soup = bs(driver.page_source,'html.parser')\n",
    "\n",
    "        like_obj = soup.find('div',class_ = 'Nm9Fw')\n",
    "        like = like_obj.text\n",
    "\n",
    "        inst_obj = soup.find('div', class_ = '_97aPb')\n",
    "        \n",
    "        image_obj = inst_obj.find('div',class_ = 'eLAPa _23QFA')\n",
    "        image_url = image_obj.find('img', class_ = 'FFVAD')['src']\n",
    "\n",
    "        outfile = like + '_' + str(random.randint(1, 10000)) + '.png'\n",
    "        urllib.request.urlretrieve(image_url, result_route + outfile)\n",
    "    except:\n",
    "        soup = bs(driver.page_source,'html.parser')\n",
    "\n",
    "        like_obj = soup.find('div',class_ = 'Nm9Fw')\n",
    "        like = like_obj.text\n",
    "\n",
    "        inst_obj = soup.find('div', class_ = '_97aPb')\n",
    "        \n",
    "        image_obj_2 = inst_obj.find('div',class_ = 'eLAPa kPFhm')\n",
    "        image_url = image_obj_2.find('img', class_ = 'FFVAD')['src']\n",
    "\n",
    "        outfile = like + '_' + str(random.randint(1, 10000)) + '.png'\n",
    "        urllib.request.urlretrieve(image_url, result_route + outfile)"
   ]
  },
  {
   "cell_type": "code",
   "execution_count": 16,
   "metadata": {},
   "outputs": [],
   "source": [
    "def get_video():\n",
    "    soup = bs(driver.page_source,'html.parser')\n",
    "    inst_obj = soup.find('div', class_ = '_97aPb')\n",
    "        \n",
    "    video = inst_obj.find('div', class_ = '_5wCQW')\n",
    "    video_live = video.find('video', class_ = 'tWeCl')['src'] #동영상\n",
    "    outfile = str(random.randint(1, 10000)) + '.mp4'\n",
    "    urllib.request.urlretrieve(video_live, result_route + outfile)"
   ]
  },
  {
   "cell_type": "code",
   "execution_count": 17,
   "metadata": {},
   "outputs": [],
   "source": [
    "def get_video_capture():\n",
    "    soup = bs(driver.page_source,'html.parser')\n",
    "\n",
    "    soup = bs(driver.page_source,'html.parser')\n",
    "    inst_obj = soup.find('div', class_ = '_97aPb')\n",
    "    video = inst_obj.find('div', class_ = '_5wCQW')\n",
    "\n",
    "    video_capture = video.find('video', class_ = 'tWeCl')['poster'] #동영상 캡처\n",
    "    outfile = str(random.randint(1, 10000)) + '.png'\n",
    "    urllib.request.urlretrieve(video_live, result_route + outfile)"
   ]
  },
  {
   "cell_type": "code",
   "execution_count": 57,
   "metadata": {},
   "outputs": [],
   "source": [
    "def insta_crawler_iamge_video():\n",
    "    try:\n",
    "        get_image()\n",
    "    except:\n",
    "        get_video()"
   ]
  },
  {
   "cell_type": "code",
   "execution_count": 13,
   "metadata": {},
   "outputs": [],
   "source": [
    "driver.find_element_by_xpath('/html/body/div[4]/div[1]/div/div/a[2]').click() #두번째 포스터 넘기기"
   ]
  },
  {
   "cell_type": "code",
   "execution_count": 22,
   "metadata": {},
   "outputs": [
    {
     "data": {
      "application/vnd.jupyter.widget-view+json": {
       "model_id": "149cf197e2e14d4c85575a7d43ac3727",
       "version_major": 2,
       "version_minor": 0
      },
      "text/plain": [
       "HBox(children=(IntProgress(value=0, max=20), HTML(value='')))"
      ]
     },
     "metadata": {},
     "output_type": "display_data"
    },
    {
     "name": "stdout",
     "output_type": "stream",
     "text": [
      "\n"
     ]
    }
   ],
   "source": [
    "#900개 1시간30분\n",
    "i = 0\n",
    "for i in tqdm_notebook(range(20)):\n",
    "    try:\n",
    "        for n in range(20): \n",
    "            if i == (n + 1) * 1000: \n",
    "                print (i,'개 포스팅까지 크롤링 되었습니다-------------------------------------------.')\n",
    "                time.sleep(60)\n",
    "        driver.find_element_by_xpath('/html/body/div[4]/div[1]/div/div/a[2]').click() #두번쨰 포스터 넘기기\n",
    "        time.sleep(5)\n",
    "        insta_crawler_iamge_video()\n",
    "    except:\n",
    "        time.sleep(10)\n",
    "        print (i,'번쨰 에러')\n",
    "        pass"
   ]
  },
  {
   "cell_type": "code",
   "execution_count": 74,
   "metadata": {},
   "outputs": [],
   "source": [
    "insta_crawler_iamge_video()"
   ]
  },
  {
   "cell_type": "code",
   "execution_count": 71,
   "metadata": {},
   "outputs": [],
   "source": [
    "second_button = WebDriverWait(driver,10).until(EC.presence_of_element_located((By.XPATH,'/html/body/div[4]/div[1]/div/div/a[2]')))\n",
    "second_button.click()"
   ]
  },
  {
   "cell_type": "code",
   "execution_count": 78,
   "metadata": {},
   "outputs": [],
   "source": [
    "second_button.click()\n",
    "insta_crawler_iamge_video()"
   ]
  },
  {
   "cell_type": "code",
   "execution_count": 79,
   "metadata": {},
   "outputs": [
    {
     "data": {
      "application/vnd.jupyter.widget-view+json": {
       "model_id": "31fc1ba09c87441bb14b047e322f69a9",
       "version_major": 2,
       "version_minor": 0
      },
      "text/plain": [
       "HBox(children=(IntProgress(value=0, max=240), HTML(value='')))"
      ]
     },
     "metadata": {},
     "output_type": "display_data"
    },
    {
     "ename": "WebDriverException",
     "evalue": "Message: invalid session id\n  (Driver info: chromedriver=2.45.615355 (d5698f682d8b2742017df6c81e0bd8e6a3063189),platform=Mac OS X 10.14.2 x86_64)\n",
     "output_type": "error",
     "traceback": [
      "\u001b[0;31m---------------------------------------------------------------------------\u001b[0m",
      "\u001b[0;31mWebDriverException\u001b[0m                        Traceback (most recent call last)",
      "\u001b[0;32m<ipython-input-79-acdd0569cde9>\u001b[0m in \u001b[0;36m<module>\u001b[0;34m\u001b[0m\n\u001b[1;32m      2\u001b[0m     \u001b[0;32mtry\u001b[0m\u001b[0;34m:\u001b[0m\u001b[0;34m\u001b[0m\u001b[0;34m\u001b[0m\u001b[0m\n\u001b[0;32m----> 3\u001b[0;31m         \u001b[0msecond_button\u001b[0m\u001b[0;34m.\u001b[0m\u001b[0mclick\u001b[0m\u001b[0;34m(\u001b[0m\u001b[0;34m)\u001b[0m\u001b[0;34m\u001b[0m\u001b[0;34m\u001b[0m\u001b[0m\n\u001b[0m\u001b[1;32m      4\u001b[0m         \u001b[0minsta_crawler_iamge_video\u001b[0m\u001b[0;34m(\u001b[0m\u001b[0;34m)\u001b[0m\u001b[0;34m\u001b[0m\u001b[0;34m\u001b[0m\u001b[0m\n",
      "\u001b[0;32m~/anaconda3/lib/python3.6/site-packages/selenium/webdriver/remote/webelement.py\u001b[0m in \u001b[0;36mclick\u001b[0;34m(self)\u001b[0m\n\u001b[1;32m     79\u001b[0m         \u001b[0;34m\"\"\"Clicks the element.\"\"\"\u001b[0m\u001b[0;34m\u001b[0m\u001b[0;34m\u001b[0m\u001b[0m\n\u001b[0;32m---> 80\u001b[0;31m         \u001b[0mself\u001b[0m\u001b[0;34m.\u001b[0m\u001b[0m_execute\u001b[0m\u001b[0;34m(\u001b[0m\u001b[0mCommand\u001b[0m\u001b[0;34m.\u001b[0m\u001b[0mCLICK_ELEMENT\u001b[0m\u001b[0;34m)\u001b[0m\u001b[0;34m\u001b[0m\u001b[0;34m\u001b[0m\u001b[0m\n\u001b[0m\u001b[1;32m     81\u001b[0m \u001b[0;34m\u001b[0m\u001b[0m\n",
      "\u001b[0;32m~/anaconda3/lib/python3.6/site-packages/selenium/webdriver/remote/webelement.py\u001b[0m in \u001b[0;36m_execute\u001b[0;34m(self, command, params)\u001b[0m\n\u001b[1;32m    632\u001b[0m         \u001b[0mparams\u001b[0m\u001b[0;34m[\u001b[0m\u001b[0;34m'id'\u001b[0m\u001b[0;34m]\u001b[0m \u001b[0;34m=\u001b[0m \u001b[0mself\u001b[0m\u001b[0;34m.\u001b[0m\u001b[0m_id\u001b[0m\u001b[0;34m\u001b[0m\u001b[0;34m\u001b[0m\u001b[0m\n\u001b[0;32m--> 633\u001b[0;31m         \u001b[0;32mreturn\u001b[0m \u001b[0mself\u001b[0m\u001b[0;34m.\u001b[0m\u001b[0m_parent\u001b[0m\u001b[0;34m.\u001b[0m\u001b[0mexecute\u001b[0m\u001b[0;34m(\u001b[0m\u001b[0mcommand\u001b[0m\u001b[0;34m,\u001b[0m \u001b[0mparams\u001b[0m\u001b[0;34m)\u001b[0m\u001b[0;34m\u001b[0m\u001b[0;34m\u001b[0m\u001b[0m\n\u001b[0m\u001b[1;32m    634\u001b[0m \u001b[0;34m\u001b[0m\u001b[0m\n",
      "\u001b[0;32m~/anaconda3/lib/python3.6/site-packages/selenium/webdriver/remote/webdriver.py\u001b[0m in \u001b[0;36mexecute\u001b[0;34m(self, driver_command, params)\u001b[0m\n\u001b[1;32m    320\u001b[0m         \u001b[0;32mif\u001b[0m \u001b[0mresponse\u001b[0m\u001b[0;34m:\u001b[0m\u001b[0;34m\u001b[0m\u001b[0;34m\u001b[0m\u001b[0m\n\u001b[0;32m--> 321\u001b[0;31m             \u001b[0mself\u001b[0m\u001b[0;34m.\u001b[0m\u001b[0merror_handler\u001b[0m\u001b[0;34m.\u001b[0m\u001b[0mcheck_response\u001b[0m\u001b[0;34m(\u001b[0m\u001b[0mresponse\u001b[0m\u001b[0;34m)\u001b[0m\u001b[0;34m\u001b[0m\u001b[0;34m\u001b[0m\u001b[0m\n\u001b[0m\u001b[1;32m    322\u001b[0m             response['value'] = self._unwrap_value(\n",
      "\u001b[0;32m~/anaconda3/lib/python3.6/site-packages/selenium/webdriver/remote/errorhandler.py\u001b[0m in \u001b[0;36mcheck_response\u001b[0;34m(self, response)\u001b[0m\n\u001b[1;32m    241\u001b[0m             \u001b[0;32mraise\u001b[0m \u001b[0mexception_class\u001b[0m\u001b[0;34m(\u001b[0m\u001b[0mmessage\u001b[0m\u001b[0;34m,\u001b[0m \u001b[0mscreen\u001b[0m\u001b[0;34m,\u001b[0m \u001b[0mstacktrace\u001b[0m\u001b[0;34m,\u001b[0m \u001b[0malert_text\u001b[0m\u001b[0;34m)\u001b[0m\u001b[0;34m\u001b[0m\u001b[0;34m\u001b[0m\u001b[0m\n\u001b[0;32m--> 242\u001b[0;31m         \u001b[0;32mraise\u001b[0m \u001b[0mexception_class\u001b[0m\u001b[0;34m(\u001b[0m\u001b[0mmessage\u001b[0m\u001b[0;34m,\u001b[0m \u001b[0mscreen\u001b[0m\u001b[0;34m,\u001b[0m \u001b[0mstacktrace\u001b[0m\u001b[0;34m)\u001b[0m\u001b[0;34m\u001b[0m\u001b[0;34m\u001b[0m\u001b[0m\n\u001b[0m\u001b[1;32m    243\u001b[0m \u001b[0;34m\u001b[0m\u001b[0m\n",
      "\u001b[0;31mWebDriverException\u001b[0m: Message: invalid session id\n  (Driver info: chromedriver=2.45.615355 (d5698f682d8b2742017df6c81e0bd8e6a3063189),platform=Mac OS X 10.14.2 x86_64)\n",
      "\nDuring handling of the above exception, another exception occurred:\n",
      "\u001b[0;31mWebDriverException\u001b[0m                        Traceback (most recent call last)",
      "\u001b[0;32m<ipython-input-79-acdd0569cde9>\u001b[0m in \u001b[0;36m<module>\u001b[0;34m\u001b[0m\n\u001b[1;32m      4\u001b[0m         \u001b[0minsta_crawler_iamge_video\u001b[0m\u001b[0;34m(\u001b[0m\u001b[0;34m)\u001b[0m\u001b[0;34m\u001b[0m\u001b[0;34m\u001b[0m\u001b[0m\n\u001b[1;32m      5\u001b[0m     \u001b[0;32mexcept\u001b[0m\u001b[0;34m:\u001b[0m\u001b[0;34m\u001b[0m\u001b[0;34m\u001b[0m\u001b[0m\n\u001b[0;32m----> 6\u001b[0;31m         \u001b[0mdriver\u001b[0m\u001b[0;34m.\u001b[0m\u001b[0mclose\u001b[0m\u001b[0;34m(\u001b[0m\u001b[0;34m)\u001b[0m\u001b[0;34m\u001b[0m\u001b[0;34m\u001b[0m\u001b[0m\n\u001b[0m",
      "\u001b[0;32m~/anaconda3/lib/python3.6/site-packages/selenium/webdriver/remote/webdriver.py\u001b[0m in \u001b[0;36mclose\u001b[0;34m(self)\u001b[0m\n\u001b[1;32m    686\u001b[0m             \u001b[0mdriver\u001b[0m\u001b[0;34m.\u001b[0m\u001b[0mclose\u001b[0m\u001b[0;34m(\u001b[0m\u001b[0;34m)\u001b[0m\u001b[0;34m\u001b[0m\u001b[0;34m\u001b[0m\u001b[0m\n\u001b[1;32m    687\u001b[0m         \"\"\"\n\u001b[0;32m--> 688\u001b[0;31m         \u001b[0mself\u001b[0m\u001b[0;34m.\u001b[0m\u001b[0mexecute\u001b[0m\u001b[0;34m(\u001b[0m\u001b[0mCommand\u001b[0m\u001b[0;34m.\u001b[0m\u001b[0mCLOSE\u001b[0m\u001b[0;34m)\u001b[0m\u001b[0;34m\u001b[0m\u001b[0;34m\u001b[0m\u001b[0m\n\u001b[0m\u001b[1;32m    689\u001b[0m \u001b[0;34m\u001b[0m\u001b[0m\n\u001b[1;32m    690\u001b[0m     \u001b[0;32mdef\u001b[0m \u001b[0mquit\u001b[0m\u001b[0;34m(\u001b[0m\u001b[0mself\u001b[0m\u001b[0;34m)\u001b[0m\u001b[0;34m:\u001b[0m\u001b[0;34m\u001b[0m\u001b[0;34m\u001b[0m\u001b[0m\n",
      "\u001b[0;32m~/anaconda3/lib/python3.6/site-packages/selenium/webdriver/remote/webdriver.py\u001b[0m in \u001b[0;36mexecute\u001b[0;34m(self, driver_command, params)\u001b[0m\n\u001b[1;32m    319\u001b[0m         \u001b[0mresponse\u001b[0m \u001b[0;34m=\u001b[0m \u001b[0mself\u001b[0m\u001b[0;34m.\u001b[0m\u001b[0mcommand_executor\u001b[0m\u001b[0;34m.\u001b[0m\u001b[0mexecute\u001b[0m\u001b[0;34m(\u001b[0m\u001b[0mdriver_command\u001b[0m\u001b[0;34m,\u001b[0m \u001b[0mparams\u001b[0m\u001b[0;34m)\u001b[0m\u001b[0;34m\u001b[0m\u001b[0;34m\u001b[0m\u001b[0m\n\u001b[1;32m    320\u001b[0m         \u001b[0;32mif\u001b[0m \u001b[0mresponse\u001b[0m\u001b[0;34m:\u001b[0m\u001b[0;34m\u001b[0m\u001b[0;34m\u001b[0m\u001b[0m\n\u001b[0;32m--> 321\u001b[0;31m             \u001b[0mself\u001b[0m\u001b[0;34m.\u001b[0m\u001b[0merror_handler\u001b[0m\u001b[0;34m.\u001b[0m\u001b[0mcheck_response\u001b[0m\u001b[0;34m(\u001b[0m\u001b[0mresponse\u001b[0m\u001b[0;34m)\u001b[0m\u001b[0;34m\u001b[0m\u001b[0;34m\u001b[0m\u001b[0m\n\u001b[0m\u001b[1;32m    322\u001b[0m             response['value'] = self._unwrap_value(\n\u001b[1;32m    323\u001b[0m                 response.get('value', None))\n",
      "\u001b[0;32m~/anaconda3/lib/python3.6/site-packages/selenium/webdriver/remote/errorhandler.py\u001b[0m in \u001b[0;36mcheck_response\u001b[0;34m(self, response)\u001b[0m\n\u001b[1;32m    240\u001b[0m                 \u001b[0malert_text\u001b[0m \u001b[0;34m=\u001b[0m \u001b[0mvalue\u001b[0m\u001b[0;34m[\u001b[0m\u001b[0;34m'alert'\u001b[0m\u001b[0;34m]\u001b[0m\u001b[0;34m.\u001b[0m\u001b[0mget\u001b[0m\u001b[0;34m(\u001b[0m\u001b[0;34m'text'\u001b[0m\u001b[0;34m)\u001b[0m\u001b[0;34m\u001b[0m\u001b[0;34m\u001b[0m\u001b[0m\n\u001b[1;32m    241\u001b[0m             \u001b[0;32mraise\u001b[0m \u001b[0mexception_class\u001b[0m\u001b[0;34m(\u001b[0m\u001b[0mmessage\u001b[0m\u001b[0;34m,\u001b[0m \u001b[0mscreen\u001b[0m\u001b[0;34m,\u001b[0m \u001b[0mstacktrace\u001b[0m\u001b[0;34m,\u001b[0m \u001b[0malert_text\u001b[0m\u001b[0;34m)\u001b[0m\u001b[0;34m\u001b[0m\u001b[0;34m\u001b[0m\u001b[0m\n\u001b[0;32m--> 242\u001b[0;31m         \u001b[0;32mraise\u001b[0m \u001b[0mexception_class\u001b[0m\u001b[0;34m(\u001b[0m\u001b[0mmessage\u001b[0m\u001b[0;34m,\u001b[0m \u001b[0mscreen\u001b[0m\u001b[0;34m,\u001b[0m \u001b[0mstacktrace\u001b[0m\u001b[0;34m)\u001b[0m\u001b[0;34m\u001b[0m\u001b[0;34m\u001b[0m\u001b[0m\n\u001b[0m\u001b[1;32m    243\u001b[0m \u001b[0;34m\u001b[0m\u001b[0m\n\u001b[1;32m    244\u001b[0m     \u001b[0;32mdef\u001b[0m \u001b[0m_value_or_default\u001b[0m\u001b[0;34m(\u001b[0m\u001b[0mself\u001b[0m\u001b[0;34m,\u001b[0m \u001b[0mobj\u001b[0m\u001b[0;34m,\u001b[0m \u001b[0mkey\u001b[0m\u001b[0;34m,\u001b[0m \u001b[0mdefault\u001b[0m\u001b[0;34m)\u001b[0m\u001b[0;34m:\u001b[0m\u001b[0;34m\u001b[0m\u001b[0;34m\u001b[0m\u001b[0m\n",
      "\u001b[0;31mWebDriverException\u001b[0m: Message: invalid session id\n  (Driver info: chromedriver=2.45.615355 (d5698f682d8b2742017df6c81e0bd8e6a3063189),platform=Mac OS X 10.14.2 x86_64)\n"
     ]
    }
   ],
   "source": [
    "for i in tqdm_notebook(range(240)):\n",
    "    try:\n",
    "        second_button.click()\n",
    "        insta_crawler_iamge_video()\n",
    "    except:\n",
    "        second_button.click()\n",
    "        driver.implicitly_wait(3)\n",
    "        insta_crawler_iamge_video()"
   ]
  },
  {
   "cell_type": "code",
   "execution_count": 110,
   "metadata": {},
   "outputs": [],
   "source": [
    "soup = bs(driver.page_source,'html.parser')\n",
    "inst_obj = soup.find_all('div', class_ = 'Nnq7C weEfm')"
   ]
  },
  {
   "cell_type": "code",
   "execution_count": 114,
   "metadata": {},
   "outputs": [],
   "source": [
    "image_url = inst_obj[1].find('img', class_ = 'FFVAD')['src']"
   ]
  },
  {
   "cell_type": "code",
   "execution_count": 115,
   "metadata": {},
   "outputs": [
    {
     "data": {
      "text/plain": [
       "('/Users/hankiho/Desktop/사업/perazna/1.png',\n",
       " <http.client.HTTPMessage at 0x11aae2160>)"
      ]
     },
     "execution_count": 115,
     "metadata": {},
     "output_type": "execute_result"
    }
   ],
   "source": [
    "outfile = str(random.randint(1, 10000)) + '.png'\n",
    "urllib.request.urlretrieve(image_url, result_route + outfile)"
   ]
  },
  {
   "cell_type": "code",
   "execution_count": 118,
   "metadata": {},
   "outputs": [],
   "source": [
    "for i in range(len(inst_obj)):\n",
    "    image_url = inst_obj[i].find('img', class_ = 'FFVAD')['src']\n",
    "    outfile = str(random.randint(1, 10000)) + '.png'\n",
    "    urllib.request.urlretrieve(image_url, result_route + outfile)"
   ]
  },
  {
   "cell_type": "code",
   "execution_count": 120,
   "metadata": {},
   "outputs": [
    {
     "data": {
      "text/plain": [
       "<div class=\"Nnq7C weEfm\"><div class=\"v1Nh3 kIKUG _bz0w\"><a href=\"/p/BwFaEqqF1Sk/\"><div class=\"eLAPa\"><div class=\"KL4Bh\"><img alt=\"이미지: 사람 1명 이상, 근접 촬영\" class=\"FFVAD\" decoding=\"auto\" sizes=\"293px\" src=\"https://scontent-icn1-1.cdninstagram.com/vp/99fee3c3486d38b94ecc297c49bb6442/5D32B1C4/t51.2885-15/sh0.08/e35/c0.135.1080.1080/s640x640/57019647_851809651848964_716750553056644051_n.jpg?_nc_ht=scontent-icn1-1.cdninstagram.com\" srcset=\"https://scontent-icn1-1.cdninstagram.com/vp/8fea25e50a1613f799cb15892e44efda/5D334E53/t51.2885-15/e35/c0.135.1080.1080/s150x150/57019647_851809651848964_716750553056644051_n.jpg?_nc_ht=scontent-icn1-1.cdninstagram.com 150w,https://scontent-icn1-1.cdninstagram.com/vp/b08f9444d17f8cb78d25fdb81e1fe9bb/5D4EB0E6/t51.2885-15/e35/c0.135.1080.1080/s240x240/57019647_851809651848964_716750553056644051_n.jpg?_nc_ht=scontent-icn1-1.cdninstagram.com 240w,https://scontent-icn1-1.cdninstagram.com/vp/c440230ed5aec11d7560ee63eaf605e7/5D36545E/t51.2885-15/e35/c0.135.1080.1080/s320x320/57019647_851809651848964_716750553056644051_n.jpg?_nc_ht=scontent-icn1-1.cdninstagram.com 320w,https://scontent-icn1-1.cdninstagram.com/vp/376d2ee070ca5eeecbcea5ebde34fa58/5D2A8302/t51.2885-15/e35/c0.135.1080.1080/s480x480/57019647_851809651848964_716750553056644051_n.jpg?_nc_ht=scontent-icn1-1.cdninstagram.com 480w,https://scontent-icn1-1.cdninstagram.com/vp/99fee3c3486d38b94ecc297c49bb6442/5D32B1C4/t51.2885-15/sh0.08/e35/c0.135.1080.1080/s640x640/57019647_851809651848964_716750553056644051_n.jpg?_nc_ht=scontent-icn1-1.cdninstagram.com 640w\" style=\"object-fit: cover;\"/></div><div class=\"_9AhH0\"></div></div><div class=\"u7YqG\"><span aria-label=\"슬라이드\" class=\"mediatypesSpriteCarousel__filled__32 u-__7\"></span></div></a></div><div class=\"v1Nh3 kIKUG _bz0w\"><a href=\"/p/BwCz9VIloBd/\"><div class=\"eLAPa\"><div class=\"KL4Bh\"><img alt=\"이미지: 사람 1명\" class=\"FFVAD\" decoding=\"auto\" sizes=\"293px\" src=\"https://scontent-icn1-1.cdninstagram.com/vp/8f3150db5f21d594ff7c5fae8f9faed5/5D4961FA/t51.2885-15/sh0.08/e35/c0.135.1080.1080a/s640x640/56412499_133737057689584_6433426047144850461_n.jpg?_nc_ht=scontent-icn1-1.cdninstagram.com\" srcset=\"https://scontent-icn1-1.cdninstagram.com/vp/0494dd6a0d4e984cde51373beaa23a2a/5D3AD331/t51.2885-15/e35/c0.135.1080.1080a/s150x150/56412499_133737057689584_6433426047144850461_n.jpg?_nc_ht=scontent-icn1-1.cdninstagram.com 150w,https://scontent-icn1-1.cdninstagram.com/vp/c5e07172441b5bec270a79487b7f6fdc/5D4B337B/t51.2885-15/e35/c0.135.1080.1080a/s240x240/56412499_133737057689584_6433426047144850461_n.jpg?_nc_ht=scontent-icn1-1.cdninstagram.com 240w,https://scontent-icn1-1.cdninstagram.com/vp/fafa2ee836a0a6c7b60980c7b6887a6e/5D49F4C1/t51.2885-15/e35/c0.135.1080.1080a/s320x320/56412499_133737057689584_6433426047144850461_n.jpg?_nc_ht=scontent-icn1-1.cdninstagram.com 320w,https://scontent-icn1-1.cdninstagram.com/vp/f37e2c0f39fa912eae9ceb0381666c96/5D4D9F9B/t51.2885-15/e35/c0.135.1080.1080a/s480x480/56412499_133737057689584_6433426047144850461_n.jpg?_nc_ht=scontent-icn1-1.cdninstagram.com 480w,https://scontent-icn1-1.cdninstagram.com/vp/8f3150db5f21d594ff7c5fae8f9faed5/5D4961FA/t51.2885-15/sh0.08/e35/c0.135.1080.1080a/s640x640/56412499_133737057689584_6433426047144850461_n.jpg?_nc_ht=scontent-icn1-1.cdninstagram.com 640w\" style=\"object-fit: cover;\"/></div><div class=\"_9AhH0\"></div></div><div class=\"u7YqG\"><span aria-label=\"슬라이드\" class=\"mediatypesSpriteCarousel__filled__32 u-__7\"></span></div></a></div><div class=\"v1Nh3 kIKUG _bz0w\"><a href=\"/p/BwAOx93lult/\"><div class=\"eLAPa\"><div class=\"KL4Bh\"><img alt=\"이미지: 사람 1명 이상, 사람들이 앉아 있는 중, 모자, 실외\" class=\"FFVAD\" decoding=\"auto\" sizes=\"293px\" src=\"https://scontent-icn1-1.cdninstagram.com/vp/776a6d3e3b2cbdf9c80b095917391548/5D456714/t51.2885-15/sh0.08/e35/c0.135.1080.1080/s640x640/56260414_429907704429405_5872878976473871500_n.jpg?_nc_ht=scontent-icn1-1.cdninstagram.com\" srcset=\"https://scontent-icn1-1.cdninstagram.com/vp/a608734e2d6f22a07e86aeabfc3dbd56/5D363A0F/t51.2885-15/e35/c0.135.1080.1080/s150x150/56260414_429907704429405_5872878976473871500_n.jpg?_nc_ht=scontent-icn1-1.cdninstagram.com 150w,https://scontent-icn1-1.cdninstagram.com/vp/313a0798dc3567089299f357fe3f87a8/5D472145/t51.2885-15/e35/c0.135.1080.1080/s240x240/56260414_429907704429405_5872878976473871500_n.jpg?_nc_ht=scontent-icn1-1.cdninstagram.com 240w,https://scontent-icn1-1.cdninstagram.com/vp/d8df12ac455ef154df2207eb389e99a2/5D315BFF/t51.2885-15/e35/c0.135.1080.1080/s320x320/56260414_429907704429405_5872878976473871500_n.jpg?_nc_ht=scontent-icn1-1.cdninstagram.com 320w,https://scontent-icn1-1.cdninstagram.com/vp/7e59cb12d2d45a82184d7f56edd8a3e0/5D4AB4A5/t51.2885-15/e35/c0.135.1080.1080/s480x480/56260414_429907704429405_5872878976473871500_n.jpg?_nc_ht=scontent-icn1-1.cdninstagram.com 480w,https://scontent-icn1-1.cdninstagram.com/vp/776a6d3e3b2cbdf9c80b095917391548/5D456714/t51.2885-15/sh0.08/e35/c0.135.1080.1080/s640x640/56260414_429907704429405_5872878976473871500_n.jpg?_nc_ht=scontent-icn1-1.cdninstagram.com 640w\" style=\"object-fit: cover;\"/></div><div class=\"_9AhH0\"></div></div><div class=\"u7YqG\"><span aria-label=\"슬라이드\" class=\"mediatypesSpriteCarousel__filled__32 u-__7\"></span></div></a></div></div>"
      ]
     },
     "execution_count": 120,
     "metadata": {},
     "output_type": "execute_result"
    }
   ],
   "source": [
    "inst_obj[0]"
   ]
  },
  {
   "cell_type": "code",
   "execution_count": null,
   "metadata": {},
   "outputs": [],
   "source": []
  }
 ],
 "metadata": {
  "kernelspec": {
   "display_name": "Python 3",
   "language": "python",
   "name": "python3"
  },
  "language_info": {
   "codemirror_mode": {
    "name": "ipython",
    "version": 3
   },
   "file_extension": ".py",
   "mimetype": "text/x-python",
   "name": "python",
   "nbconvert_exporter": "python",
   "pygments_lexer": "ipython3",
   "version": "3.6.8"
  }
 },
 "nbformat": 4,
 "nbformat_minor": 2
}

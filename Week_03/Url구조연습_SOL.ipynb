{
 "cells": [
  {
   "cell_type": "code",
   "execution_count": 1,
   "metadata": {},
   "outputs": [],
   "source": [
    "import requests\n",
    "from bs4 import BeautifulSoup as bs"
   ]
  },
  {
   "cell_type": "code",
   "execution_count": 2,
   "metadata": {},
   "outputs": [],
   "source": [
    "#https://www.google.co.kr/search?q=taleofus&ei=aGHZXLzsK5WIr7wPy9qwoAE&start=30=30"
   ]
  },
  {
   "cell_type": "code",
   "execution_count": 12,
   "metadata": {},
   "outputs": [],
   "source": [
    "google_url = 'https://www.google.co.kr/search?q='\n",
    "keyword = 'taleofus'\n",
    "rest_url = '&ei=aGHZXLzsK5WIr7wPy9qwoAE&start='\n",
    "page_num = str(10)"
   ]
  },
  {
   "cell_type": "code",
   "execution_count": 13,
   "metadata": {},
   "outputs": [
    {
     "data": {
      "text/plain": [
       "'https://www.google.co.kr/search?q=taleofus&ei=aGHZXLzsK5WIr7wPy9qwoAE&start=10'"
      ]
     },
     "execution_count": 13,
     "metadata": {},
     "output_type": "execute_result"
    }
   ],
   "source": [
    "google_url + keyword + rest_url + page_num"
   ]
  },
  {
   "cell_type": "code",
   "execution_count": 44,
   "metadata": {},
   "outputs": [
    {
     "name": "stdout",
     "output_type": "stream",
     "text": [
      "키워드: taleofus\n",
      "페이지: 4\n"
     ]
    }
   ],
   "source": [
    "Key_word = str(input('키워드: '))\n",
    "Count_page = int(input('페이지: '))"
   ]
  },
  {
   "cell_type": "code",
   "execution_count": 45,
   "metadata": {},
   "outputs": [],
   "source": [
    "url_page = 'https://www.google.co.kr/search?q='\n",
    "url_rest = '&ei=aGHZXLzsK5WIr7wPy9qwoAE&start='\n",
    "google_url = url_page + Key_word + url_rest + str(Count_page * 10)"
   ]
  },
  {
   "cell_type": "code",
   "execution_count": 46,
   "metadata": {},
   "outputs": [
    {
     "data": {
      "text/plain": [
       "'https://www.google.co.kr/search?q=taleofus&ei=aGHZXLzsK5WIr7wPy9qwoAE&start=40'"
      ]
     },
     "execution_count": 46,
     "metadata": {},
     "output_type": "execute_result"
    }
   ],
   "source": [
    "google_url"
   ]
  },
  {
   "cell_type": "code",
   "execution_count": 49,
   "metadata": {},
   "outputs": [],
   "source": [
    "def google_url(Key_word, Count_page):\n",
    "    url_page = 'https://www.google.co.kr/search?q='\n",
    "    url_rest = '&ei=aGHZXLzsK5WIr7wPy9qwoAE&start='\n",
    "    google_url = url_page + Key_word + url_rest + str(Count_page * 10)\n",
    "    print (google_url)"
   ]
  },
  {
   "cell_type": "code",
   "execution_count": 50,
   "metadata": {},
   "outputs": [
    {
     "name": "stdout",
     "output_type": "stream",
     "text": [
      "https://www.google.co.kr/search?q=taleofus&ei=aGHZXLzsK5WIr7wPy9qwoAE&start=0\n",
      "https://www.google.co.kr/search?q=taleofus&ei=aGHZXLzsK5WIr7wPy9qwoAE&start=10\n",
      "https://www.google.co.kr/search?q=taleofus&ei=aGHZXLzsK5WIr7wPy9qwoAE&start=20\n",
      "https://www.google.co.kr/search?q=taleofus&ei=aGHZXLzsK5WIr7wPy9qwoAE&start=30\n",
      "https://www.google.co.kr/search?q=taleofus&ei=aGHZXLzsK5WIr7wPy9qwoAE&start=40\n",
      "https://www.google.co.kr/search?q=taleofus&ei=aGHZXLzsK5WIr7wPy9qwoAE&start=50\n",
      "https://www.google.co.kr/search?q=taleofus&ei=aGHZXLzsK5WIr7wPy9qwoAE&start=60\n",
      "https://www.google.co.kr/search?q=taleofus&ei=aGHZXLzsK5WIr7wPy9qwoAE&start=70\n",
      "https://www.google.co.kr/search?q=taleofus&ei=aGHZXLzsK5WIr7wPy9qwoAE&start=80\n",
      "https://www.google.co.kr/search?q=taleofus&ei=aGHZXLzsK5WIr7wPy9qwoAE&start=90\n"
     ]
    }
   ],
   "source": [
    "for i in range(10):\n",
    "    google_url('taleofus', i)"
   ]
  },
  {
   "cell_type": "markdown",
   "metadata": {},
   "source": [
    "## 옥션사이트를 위에서 학습한 내용을 바탕으로 정리해 보시오."
   ]
  },
  {
   "cell_type": "code",
   "execution_count": 51,
   "metadata": {},
   "outputs": [
    {
     "name": "stdout",
     "output_type": "stream",
     "text": [
      "키워드: 커피\n",
      "페이지: 4\n"
     ]
    }
   ],
   "source": [
    "Key_word = str(input('키워드: '))\n",
    "Count_page = input('페이지: ')"
   ]
  },
  {
   "cell_type": "code",
   "execution_count": 52,
   "metadata": {},
   "outputs": [
    {
     "data": {
      "text/plain": [
       "'http://browse.auction.co.kr/search?keyword=커피&k=16&p=4'"
      ]
     },
     "execution_count": 52,
     "metadata": {},
     "output_type": "execute_result"
    }
   ],
   "source": [
    "url = 'http://browse.auction.co.kr/search?keyword='\n",
    "url_rest = '&k=16&p='\n",
    "auction_url = url + Key_word + url_rest + str(Count_page)\n",
    "auction_url"
   ]
  },
  {
   "cell_type": "code",
   "execution_count": 54,
   "metadata": {},
   "outputs": [],
   "source": [
    "def auction(Key_word, Count_page):\n",
    "    url = 'http://browse.auction.co.kr/search?keyword='\n",
    "    url_rest = '&k=16&p='\n",
    "    auction_url = url + Key_word + url_rest + str(Count_page)\n",
    "    auction_url"
   ]
  },
  {
   "cell_type": "code",
   "execution_count": 60,
   "metadata": {},
   "outputs": [
    {
     "name": "stdout",
     "output_type": "stream",
     "text": [
      "http://browse.auction.co.kr/search?keyword=커피&k=16&p=0\n",
      "http://browse.auction.co.kr/search?keyword=커피&k=16&p=1\n",
      "http://browse.auction.co.kr/search?keyword=커피&k=16&p=2\n",
      "http://browse.auction.co.kr/search?keyword=커피&k=16&p=3\n",
      "http://browse.auction.co.kr/search?keyword=커피&k=16&p=4\n",
      "http://browse.auction.co.kr/search?keyword=커피&k=16&p=5\n",
      "http://browse.auction.co.kr/search?keyword=커피&k=16&p=6\n",
      "http://browse.auction.co.kr/search?keyword=커피&k=16&p=7\n",
      "http://browse.auction.co.kr/search?keyword=커피&k=16&p=8\n",
      "http://browse.auction.co.kr/search?keyword=커피&k=16&p=9\n"
     ]
    }
   ],
   "source": [
    "for i in range(10):\n",
    "    auction('커피',i)"
   ]
  },
  {
   "cell_type": "code",
   "execution_count": null,
   "metadata": {},
   "outputs": [],
   "source": []
  }
 ],
 "metadata": {
  "kernelspec": {
   "display_name": "Python 3",
   "language": "python",
   "name": "python3"
  },
  "language_info": {
   "codemirror_mode": {
    "name": "ipython",
    "version": 3
   },
   "file_extension": ".py",
   "mimetype": "text/x-python",
   "name": "python",
   "nbconvert_exporter": "python",
   "pygments_lexer": "ipython3",
   "version": "3.6.8"
  }
 },
 "nbformat": 4,
 "nbformat_minor": 2
}

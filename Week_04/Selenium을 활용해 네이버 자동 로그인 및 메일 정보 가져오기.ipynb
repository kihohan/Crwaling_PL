{
 "cells": [
  {
   "cell_type": "markdown",
   "metadata": {},
   "source": [
    "## https://sites.google.com/a/chromium.org/chromedriver/downloads\n",
    "### (크롬 버전에 맞게 설치)"
   ]
  },
  {
   "cell_type": "code",
   "execution_count": 1,
   "metadata": {},
   "outputs": [],
   "source": [
    "# 자동화 테스트를 위해 셀레닝니움을 불러옵니다.\n",
    "from selenium import webdriver\n",
    "# 크롭 웹 드라이버의 경로를 설정합니다.\n",
    "driver = webdriver.Chrome('/Users/hankiho/Downloads/chromedriver')\n",
    "# 크롬을 통해 네이버 로그인 화면에 접근\n",
    "driver.get('http://nid.naver.com/nidlogin.login')"
   ]
  },
  {
   "cell_type": "code",
   "execution_count": 4,
   "metadata": {},
   "outputs": [],
   "source": [
    "from time import sleep"
   ]
  },
  {
   "cell_type": "code",
   "execution_count": 22,
   "metadata": {},
   "outputs": [],
   "source": [
    "# 아이디와 비밀번호를 입력합니다. (0.5초씩 기다린다)\n",
    "sleep(0.5)\n",
    "driver.find_element_by_name('id').send_keys('본인_아이디')\n",
    "sleep(0.5)\n",
    "driver.find_element_by_name('pw').send_keys('본인_비밀번호')\n",
    "# xPath를 이용해 로그인을 시도합니다.\n",
    "driver.find_element_by_xpath('//*[@id=\"frmNIDLogin\"]/fieldset/input').click()"
   ]
  },
  {
   "cell_type": "code",
   "execution_count": 24,
   "metadata": {},
   "outputs": [
    {
     "name": "stdout",
     "output_type": "stream",
     "text": [
      "메일 제목:새로운 환경에서 로그인 되었습니다.\n",
      "메일 제목:[안내] 수만휘 4점 기출이 출간되어 안내합니다.\n",
      "메일 제목:(광고) 12월의 급등정보가 도착했습니다. 서둘러서 확인해보세요\n",
      "메일 제목:[수만휘] 수능 만점자 회원 안내 및 인터뷰\n",
      " 메일 제목:[레포트샵] 한기호님 회원가입을 축하드립니다.\n",
      "메일 제목:축하드려요 수만휘-수능날만점시험지를휘날리자★수능공부과외편입유학 카페에 가입 되셨습니다.\n",
      "메일 제목:개인정보 이용내역을 안내해 드립니다.\n",
      "메일 제목:네이버 메일 1차 휴면이 해지되어 메일을 수신받을 수 있습니다.\n",
      "메일 제목:(광고)주목! 아디다스 5월의 NEW ARRIVAL☜\n",
      "메일 제목:(광고)아디다스 7천원/1만5천원 쿠폰★을 잊지 마세요!\n",
      "메일 제목:(광고) 내일부터! 2018 SPRING FESTIVAL이 시작됩니다! D-1\n",
      "메일 제목:네이버 이용약관 개정 및 단체회원 이용약관 폐지 안내\n",
      "메일 제목:(광고)지만 반가운 4월의 베스트 컬렉션!\n",
      "메일 제목:(광고) YEEZY 500 BLUSH 온라인 래플에 응모하세요.\n",
      "메일 제목:(광고) 4월 NEW ARRIVAL 신제품 런칭 소식\n",
      "메일 제목:(광고) 4월 NEW ARRIVAL 신제품 런칭 소식\n",
      "메일 제목:(광고) 데미안 릴라드의 알파바운스\n",
      "메일 제목:(광고) 기분이가 좋아지는 3월 마지막주 쇼핑 TIP♪\n",
      "메일 제목:(광고) 아디다스에서 #일주일씩이나 #세일해봄 #수퍼위크\n",
      "메일 제목:[adidas] 회원님의 생일기념 쿠폰 발급 안내입니다.\n",
      "메일 제목:(광고) 봄비와 함께 내려온 3월 NEWS LETTER★\n",
      "메일 제목:(광고) YEEZY POWERPHASE 온라인 래플에 응모하세요.\n",
      "메일 제목:(광고) YEEZY POWERPHASE 온라인 래플에 응모하세요.\n",
      "메일 제목:(광고) 가젤 vs 캠퍼스, 당신의 초이스는?\n",
      "메일 제목:유니클로, 개강런웨이, 스니커즈, 화이트데이, 랩 시리즈 모두 증정 등\n",
      "메일 제목:(광고)[NEW]두근두근 봄 맞이 신상 쇼핑\n",
      "메일 제목:(광고) ULTRABOOST X 런칭! 마이런 무료티켓 Open!\n",
      "메일 제목:바쁠수록 새벽을 깨워 미래를 준비해야 합니다!!\n",
      "메일 제목:그레이 휴, 육스, 비욘드 클로젯, 청바지, 2월 음악 등\n",
      "메일 제목:그레이 휴, 육스, 비욘드 클로젯, 청바지, 2월 추천음악\n"
     ]
    }
   ],
   "source": [
    "from bs4 import BeautifulSoup as bs\n",
    "\n",
    "driver.get(\"http://mail.naver.com/\")\n",
    "html = driver.page_source\n",
    "soup = bs(html, 'lxml')\n",
    "#메일 제목들을 하나씩 파싱한다.\n",
    "title_list = soup.find_all('strong', 'mail_title')\n",
    "#모든 메일 제목들을 출력합니다.\n",
    "for title in title_list:\n",
    "    print (title.text)"
   ]
  },
  {
   "cell_type": "code",
   "execution_count": null,
   "metadata": {},
   "outputs": [],
   "source": []
  }
 ],
 "metadata": {
  "kernelspec": {
   "display_name": "Python 3",
   "language": "python",
   "name": "python3"
  },
  "language_info": {
   "codemirror_mode": {
    "name": "ipython",
    "version": 3
   },
   "file_extension": ".py",
   "mimetype": "text/x-python",
   "name": "python",
   "nbconvert_exporter": "python",
   "pygments_lexer": "ipython3",
   "version": "3.6.8"
  }
 },
 "nbformat": 4,
 "nbformat_minor": 2
}

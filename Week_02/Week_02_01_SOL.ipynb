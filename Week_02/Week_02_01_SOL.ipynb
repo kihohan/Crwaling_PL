{
 "cells": [
  {
   "cell_type": "markdown",
   "metadata": {},
   "source": [
    "### 복습: Daum 실시간 검색어를 크롤링하여 결과를 엑셀파일로 저장하시오"
   ]
  },
  {
   "cell_type": "code",
   "execution_count": 8,
   "metadata": {},
   "outputs": [
    {
     "name": "stdout",
     "output_type": "stream",
     "text": [
      "통도사\n",
      "주현\n",
      "김해숙\n",
      "호구의 연애\n",
      "미운 우리 새끼\n",
      "문세윤\n",
      "이정은\n",
      "선묵 혜자스님\n",
      "김현미\n",
      "코미디 빅 리그\n"
     ]
    }
   ],
   "source": [
    "import requests\n",
    "from bs4 import BeautifulSoup as bs\n",
    "\n",
    "daum = requests.get(\"https://www.daum.net/\").text\n",
    "daum_obj = bs(daum,\"html.parser\")\n",
    "daum_top20_obj = daum_obj.find('ol', class_ = 'list_hotissue issue_row list_mini')\n",
    "daum_top20 = daum_top20_obj.find_all('span', class_ = 'txt_issue')\n",
    "count = len(daum_top20)\n",
    "for i in range (count):\n",
    "    print (daum_top20[i].text)"
   ]
  },
  {
   "cell_type": "code",
   "execution_count": 5,
   "metadata": {},
   "outputs": [],
   "source": [
    "def daum_top10():\n",
    "    import requests\n",
    "    from bs4 import BeautifulSoup as bs\n",
    "    import pandas as pd\n",
    "\n",
    "    daum = requests.get(\"https://www.daum.net/\").text\n",
    "    daum_obj = bs(daum,\"html.parser\")\n",
    "    daum_top20_obj = daum_obj.find('ol', class_ = 'list_hotissue issue_row list_mini')\n",
    "    daum_top20 = daum_top20_obj.find_all('span', class_ = 'txt_issue')\n",
    "    count = len(daum_top20)\n",
    "    list_ = []\n",
    "    for i in range (count):\n",
    "        list_.append(daum_top20[i].text)\n",
    "        print (daum_top20[i].text)\n",
    "    \n",
    "    df = pd.DataFrame(list_)\n",
    "    df.to_csv('/Users/hankiho/Desktop/df_result.csv', encoding = 'utf-8-sig') "
   ]
  },
  {
   "cell_type": "code",
   "execution_count": 7,
   "metadata": {},
   "outputs": [
    {
     "name": "stdout",
     "output_type": "stream",
     "text": [
      "단 하나의 사랑\n",
      "백상예술대상\n",
      "이미자\n",
      "작업실\n",
      "권소현\n",
      "도경수\n",
      "김혜수\n",
      "원진아\n",
      "절대 그이\n",
      "신혜선\n"
     ]
    }
   ],
   "source": [
    "daum_top10()"
   ]
  },
  {
   "cell_type": "code",
   "execution_count": 1,
   "metadata": {},
   "outputs": [],
   "source": [
    "import requests\n",
    "from bs4 import BeautifulSoup as bs"
   ]
  },
  {
   "cell_type": "code",
   "execution_count": 2,
   "metadata": {},
   "outputs": [],
   "source": [
    "#출력 페이지와 키워드 입력\n",
    "Count_page = 1\n",
    "Key_word = \"경제\""
   ]
  },
  {
   "cell_type": "code",
   "execution_count": 3,
   "metadata": {},
   "outputs": [],
   "source": [
    "url_page = 'https://search.joins.com/JoongangNews?page='\n",
    "url_key = '&Keyword='\n",
    "url_rest = '&SortType=New&SearchCategoryType=JoongangNews'"
   ]
  },
  {
   "cell_type": "code",
   "execution_count": 4,
   "metadata": {},
   "outputs": [
    {
     "data": {
      "text/plain": [
       "'https://search.joins.com/JoongangNews?page=1&Keyword=경제&SortType=New&SearchCategoryType=JoongangNews'"
      ]
     },
     "execution_count": 4,
     "metadata": {},
     "output_type": "execute_result"
    }
   ],
   "source": [
    "t_url = url_page + str(Count_page) + url_key + Key_word + url_rest\n",
    "t_url"
   ]
  },
  {
   "cell_type": "code",
   "execution_count": 5,
   "metadata": {},
   "outputs": [],
   "source": [
    "joins = requests.get(t_url).text"
   ]
  },
  {
   "cell_type": "code",
   "execution_count": 6,
   "metadata": {},
   "outputs": [],
   "source": [
    "joins_obj = bs(joins,\"html.parser\")"
   ]
  },
  {
   "cell_type": "code",
   "execution_count": 7,
   "metadata": {},
   "outputs": [],
   "source": [
    "news_obj = joins_obj.find('ul', class_ = 'list_default')"
   ]
  },
  {
   "cell_type": "code",
   "execution_count": 8,
   "metadata": {},
   "outputs": [
    {
     "data": {
      "text/plain": [
       "<li>\n",
       "<span class=\"thumb\"><a href=\"https://news.joins.com/article/23455870\" target=\"_blank\"><img alt='암 생존률 높아지며 \"치료비보다 투병 과정이 더 걱정\"' src=\"https://ir.joins.com/?u=https://pds.joins.com/news/component/htmlphoto_mmdata/201905/01/ed0834d7-4650-4cc2-9add-e2d5dad7d597.jpg.tn_250.jpg&amp;w=110&amp;h=80&amp;t=c\"/></a></span>\n",
       "<div class=\"text\">\n",
       "<strong class=\"headline mg\"><a href=\"https://news.joins.com/article/23455870\" target=\"_blank\">암 생존률 높아지며 \"치료비보다 투병 과정이 더 걱정\"</a></strong>\n",
       "<span class=\"lead\">... 명상 등 심리치료 프로그램이 다양하게 이뤄지고 있다. [중앙포토]  암에 대한 사람들의 걱정이 치료비에서 투병 과정으로 옮겨가는 것으로 나타났다.  건강보험 혜택 등의 확대로 치료에 대한 <span class=\"keyword\">경제</span>적 부담이 줄어든 데다 의료기술 발전에 따른 암 생존율이 높아지며 암을 불치병이나 난치병에서 만성병으로 인식하는 데 따른 것으로 분석된다.  한화생명이 지난해 주요 포털사이트 '암' 관련 ...</span>\n",
       "<span class=\"byline\">\n",
       "<em>중앙일보(집배신)</em> |\n",
       "                                            <em>2019.05.01 14:08</em>\n",
       "</span>\n",
       "<span class=\"tag\">\n",
       "<a href=\"/?keyword=%ec%b9%98%eb%a3%8c%eb%b9%84\">\n",
       "<em>\n",
       "                                                        #치료비\n",
       "                                                    </em>\n",
       "</a>\n",
       "<a href=\"/?keyword=%ec%83%9d%ec%a1%b4%eb%a5%a0\">\n",
       "<em>\n",
       "                                                        #생존률\n",
       "                                                    </em>\n",
       "</a>\n",
       "<a href=\"/?keyword=%ed%88%ac%eb%b3%91+%ea%b3%bc%ec%a0%95\">\n",
       "<em>\n",
       "                                                        #투병 과정\n",
       "                                                    </em>\n",
       "</a>\n",
       "<a href=\"/?keyword=%ea%b0%80%ec%a1%b1+%ea%b1%b1%ec%a0%95\">\n",
       "<em>\n",
       "                                                        #가족 걱정\n",
       "                                                    </em>\n",
       "</a>\n",
       "<a href=\"/?keyword=%ed%8f%89%ea%b7%a0+%ec%b9%98%eb%a3%8c%eb%b9%84\">\n",
       "<em>\n",
       "                                                        #평균 치료비\n",
       "                                                    </em>\n",
       "</a>\n",
       "</span>\n",
       "</div>\n",
       "</li>"
      ]
     },
     "execution_count": 8,
     "metadata": {},
     "output_type": "execute_result"
    }
   ],
   "source": [
    "news_obj.find_all('li')[0]"
   ]
  },
  {
   "cell_type": "code",
   "execution_count": 9,
   "metadata": {},
   "outputs": [
    {
     "data": {
      "text/plain": [
       "<strong class=\"headline mg\"><a href=\"https://news.joins.com/article/23455870\" target=\"_blank\">암 생존률 높아지며 \"치료비보다 투병 과정이 더 걱정\"</a></strong>"
      ]
     },
     "execution_count": 9,
     "metadata": {},
     "output_type": "execute_result"
    }
   ],
   "source": [
    "news_obj.find_all('li')[0].find('strong', class_ = 'headline mg')"
   ]
  },
  {
   "cell_type": "code",
   "execution_count": 10,
   "metadata": {},
   "outputs": [
    {
     "data": {
      "text/plain": [
       "'암 생존률 높아지며 \"치료비보다 투병 과정이 더 걱정\"'"
      ]
     },
     "execution_count": 10,
     "metadata": {},
     "output_type": "execute_result"
    }
   ],
   "source": [
    "news_obj.find_all('li')[0].find('strong', class_ = 'headline mg').text"
   ]
  },
  {
   "cell_type": "code",
   "execution_count": 11,
   "metadata": {},
   "outputs": [],
   "source": [
    "list_len = news_obj.find_all('li')"
   ]
  },
  {
   "cell_type": "code",
   "execution_count": 12,
   "metadata": {},
   "outputs": [
    {
     "name": "stdout",
     "output_type": "stream",
     "text": [
      "암 생존률 높아지며 \"치료비보다 투병 과정이 더 걱정\"\n",
      "\"뱃멀미 힘들었는데\" 울릉도, 6년 뒤엔 비행기 타고 간다\n",
      "국내 청소년 4명중 1명은 '비만'...남자 고교생이 비만율 가장 높다\n",
      "“우리 대화합시다”…여야4당, 한국당에 국회 복귀 호소\n",
      "“DMZ는 한반도 허파”…미세먼지로 재조명된 DMZ의 가치\n",
      "文대통령 “노동이 자랑스러운 나라 만들고 싶다”\n",
      "[단독] \"소득주도성장의 핵심 전제, '임금 없는 성장'은 틀렸다\"\n",
      "영양실조 아이 둔 과테말라 미혼모가 영양제 거부한 까닭\n",
      "[ONE SHOT] '데이트 비용'갈등…남자가 더 내야 vs '더치페이'하자\n",
      "'특허 공격' 뚫고 세계 시장 절반 차지한 중소기업의 비결\n"
     ]
    }
   ],
   "source": [
    "for i in range (len(list_len)):\n",
    "    print (list_len[i].find('strong', class_ = 'headline mg').text)"
   ]
  },
  {
   "cell_type": "code",
   "execution_count": 6,
   "metadata": {},
   "outputs": [],
   "source": [
    "def join_news(Count_page, Key_word):\n",
    "    url_page = 'https://search.joins.com/JoongangNews?page='\n",
    "    url_key = '&Keyword='\n",
    "    url_rest = '&SortType=New&SearchCategoryType=JoongangNews'\n",
    "\n",
    "    t_url = url_page + str(Count_page) + url_key + Key_word + url_rest\n",
    "    t_url\n",
    "    joins = requests.get(t_url).text\n",
    "    joins_obj = bs(joins,\"html.parser\")\n",
    "    news_obj = joins_obj.find('ul', class_ = 'list_default')\n",
    "    list_len = news_obj.find_all('li')\n",
    "    for i in range (len(list_len)):\n",
    "        print (list_len[i].find('strong', class_ = 'headline mg').text)"
   ]
  },
  {
   "cell_type": "code",
   "execution_count": 2,
   "metadata": {},
   "outputs": [
    {
     "ename": "NameError",
     "evalue": "name 'requests' is not defined",
     "output_type": "error",
     "traceback": [
      "\u001b[0;31m---------------------------------------------------------------------------\u001b[0m",
      "\u001b[0;31mNameError\u001b[0m                                 Traceback (most recent call last)",
      "\u001b[0;32m<ipython-input-2-d688e183c39b>\u001b[0m in \u001b[0;36m<module>\u001b[0;34m\u001b[0m\n\u001b[0;32m----> 1\u001b[0;31m \u001b[0mjoin_news\u001b[0m\u001b[0;34m(\u001b[0m\u001b[0;36m1\u001b[0m\u001b[0;34m,\u001b[0m \u001b[0;34m\"경제\"\u001b[0m\u001b[0;34m)\u001b[0m\u001b[0;34m\u001b[0m\u001b[0;34m\u001b[0m\u001b[0m\n\u001b[0m",
      "\u001b[0;32m<ipython-input-1-a0366858df73>\u001b[0m in \u001b[0;36mjoin_news\u001b[0;34m(Count_page, Key_word)\u001b[0m\n\u001b[1;32m      6\u001b[0m     \u001b[0mt_url\u001b[0m \u001b[0;34m=\u001b[0m \u001b[0murl_page\u001b[0m \u001b[0;34m+\u001b[0m \u001b[0mstr\u001b[0m\u001b[0;34m(\u001b[0m\u001b[0mCount_page\u001b[0m\u001b[0;34m)\u001b[0m \u001b[0;34m+\u001b[0m \u001b[0murl_key\u001b[0m \u001b[0;34m+\u001b[0m \u001b[0mKey_word\u001b[0m \u001b[0;34m+\u001b[0m \u001b[0murl_rest\u001b[0m\u001b[0;34m\u001b[0m\u001b[0;34m\u001b[0m\u001b[0m\n\u001b[1;32m      7\u001b[0m     \u001b[0mt_url\u001b[0m\u001b[0;34m\u001b[0m\u001b[0;34m\u001b[0m\u001b[0m\n\u001b[0;32m----> 8\u001b[0;31m     \u001b[0mjoins\u001b[0m \u001b[0;34m=\u001b[0m \u001b[0mrequests\u001b[0m\u001b[0;34m.\u001b[0m\u001b[0mget\u001b[0m\u001b[0;34m(\u001b[0m\u001b[0mt_url\u001b[0m\u001b[0;34m)\u001b[0m\u001b[0;34m.\u001b[0m\u001b[0mtext\u001b[0m\u001b[0;34m\u001b[0m\u001b[0;34m\u001b[0m\u001b[0m\n\u001b[0m\u001b[1;32m      9\u001b[0m     \u001b[0mjoins_obj\u001b[0m \u001b[0;34m=\u001b[0m \u001b[0mbs\u001b[0m\u001b[0;34m(\u001b[0m\u001b[0mjoins\u001b[0m\u001b[0;34m,\u001b[0m\u001b[0;34m\"html.parser\"\u001b[0m\u001b[0;34m)\u001b[0m\u001b[0;34m\u001b[0m\u001b[0;34m\u001b[0m\u001b[0m\n\u001b[1;32m     10\u001b[0m     \u001b[0mnews_obj\u001b[0m \u001b[0;34m=\u001b[0m \u001b[0mjoins_obj\u001b[0m\u001b[0;34m.\u001b[0m\u001b[0mfind\u001b[0m\u001b[0;34m(\u001b[0m\u001b[0;34m'ul'\u001b[0m\u001b[0;34m,\u001b[0m \u001b[0mclass_\u001b[0m \u001b[0;34m=\u001b[0m \u001b[0;34m'list_default'\u001b[0m\u001b[0;34m)\u001b[0m\u001b[0;34m\u001b[0m\u001b[0;34m\u001b[0m\u001b[0m\n",
      "\u001b[0;31mNameError\u001b[0m: name 'requests' is not defined"
     ]
    }
   ],
   "source": [
    "join_news(1, \"경제\")"
   ]
  },
  {
   "cell_type": "code",
   "execution_count": 15,
   "metadata": {},
   "outputs": [
    {
     "name": "stdout",
     "output_type": "stream",
     "text": [
      "성인 3명 중 1명 앓는 '지방간' 방치하면 안되는 이유\n",
      "경조사비 10만원 냈더니 9만8800원 돌려받았다\n",
      "'월요병'도 인정했다···대법의 친노동 판결, 文정부서 대폭 급증\n",
      "[서소문 포럼] 촛불 정부의 안이한 경제 낙관론\n",
      "[임재준의 의학노트] 명품의 의학적 효과\n",
      "[세계 언론 자유의 날 공동기고] 언론 자유는 민주 국가의 필수적 요건이다\n",
      "[분수대] 통계와 거짓말 사이\n",
      "[중앙시평] 김정은의 자력갱생 몽\n",
      "한전 1조, 건보 4조 적자…정책에 멍든 공공기관\n",
      "[사설] 이벤트로 끝나선 안 될 대통령의 기업 현장 방문\n"
     ]
    }
   ],
   "source": [
    "join_news(2, \"경제\")"
   ]
  },
  {
   "cell_type": "code",
   "execution_count": 16,
   "metadata": {},
   "outputs": [
    {
     "name": "stdout",
     "output_type": "stream",
     "text": [
      "암 생존률 높아지며 \"치료비보다 투병 과정이 더 걱정\"\n",
      "\"뱃멀미 힘들었는데\" 울릉도, 6년 뒤엔 비행기 타고 간다\n",
      "국내 청소년 4명중 1명은 '비만'...남자 고교생이 비만율 가장 높다\n",
      "“우리 대화합시다”…여야4당, 한국당에 국회 복귀 호소\n",
      "“DMZ는 한반도 허파”…미세먼지로 재조명된 DMZ의 가치\n",
      "文대통령 “노동이 자랑스러운 나라 만들고 싶다”\n",
      "[단독] \"소득주도성장의 핵심 전제, '임금 없는 성장'은 틀렸다\"\n",
      "영양실조 아이 둔 과테말라 미혼모가 영양제 거부한 까닭\n",
      "[ONE SHOT] '데이트 비용'갈등…남자가 더 내야 vs '더치페이'하자\n",
      "'특허 공격' 뚫고 세계 시장 절반 차지한 중소기업의 비결\n",
      "성인 3명 중 1명 앓는 '지방간' 방치하면 안되는 이유\n",
      "경조사비 10만원 냈더니 9만8800원 돌려받았다\n",
      "'월요병'도 인정했다···대법의 친노동 판결, 文정부서 대폭 급증\n",
      "[서소문 포럼] 촛불 정부의 안이한 경제 낙관론\n",
      "[임재준의 의학노트] 명품의 의학적 효과\n",
      "[세계 언론 자유의 날 공동기고] 언론 자유는 민주 국가의 필수적 요건이다\n",
      "[분수대] 통계와 거짓말 사이\n",
      "[중앙시평] 김정은의 자력갱생 몽\n",
      "한전 1조, 건보 4조 적자…정책에 멍든 공공기관\n",
      "[사설] 이벤트로 끝나선 안 될 대통령의 기업 현장 방문\n",
      "규정뿐인 김영란법 5만원 룰, 여러 사람 명의 '쪼개기 부조'\n",
      "최선희 “미국, 연말까지 셈법 안 바꾸면 원치않는 결과 볼 것”\n",
      "5월 극단적 선택 최다, 겨울 우울증 앓다 봄볕에 감정기복\n",
      "[사진] '창조경영' 빛낸 얼굴들\n",
      "LG화학 “SK이노, 핵심기술·인력 빼갔다” 미국서 제소\n",
      "\"결과 통보하고 땡···1.5조 쓴 국민건강검진 효과 없다\"\n",
      "[한일 비전 포럼] “민간인 전문가로 대통령 위원회 구성해 강제 징용 해법 찾자”\n",
      "김정은의 대변인 최선희 \"미국 입장 안바꾸면 안 좋은 결과 볼 것\"\n",
      "中집값 하락! 시진핑 경제 뿌리채 흔드는 이유\n",
      "무역전쟁 끝? 바로 훈풍 기대하기 어려운 4가지 이유\n"
     ]
    }
   ],
   "source": [
    "for i in range(3):\n",
    "    join_news(i + 1, \"경제\")"
   ]
  },
  {
   "cell_type": "markdown",
   "metadata": {},
   "source": [
    "### 텍스트 파일 저장 하는법"
   ]
  },
  {
   "cell_type": "code",
   "execution_count": 17,
   "metadata": {},
   "outputs": [],
   "source": [
    "file = open('/Users/hankiho/Desktop/' + 'domain' + '검색결과.txt','w', encoding = 'utf-8')\n",
    "for a in range(1, 9):\n",
    "  line = f'7 * {a} = {a * 7}\\n'\n",
    "  file.write(line)\n",
    "file.close()"
   ]
  },
  {
   "cell_type": "code",
   "execution_count": 41,
   "metadata": {},
   "outputs": [],
   "source": [
    "Count_page = 2\n",
    "Key_word = \"경제\"\n",
    "\n",
    "url_page = 'https://search.joins.com/JoongangNews?page='\n",
    "url_key = '&Keyword='\n",
    "url_rest = '&SortType=New&SearchCategoryType=JoongangNews'\n",
    "\n",
    "t_url = url_page + str(Count_page) + url_key + Key_word + url_rest\n",
    "t_url\n",
    "joins = requests.get(t_url).text\n",
    "joins_obj = bs(joins,\"html.parser\")\n",
    "news_obj = joins_obj.find('ul', class_ = 'list_default')\n",
    "list_len = news_obj.find_all('li')\n",
    "\n",
    "\n",
    "file = open('/Users/hankiho/Desktop/' + 'domain' + '검색결과.txt','w', encoding = 'utf-8')\n",
    "for i in range (len(list_len)):\n",
    "    line = list_len[i].find('strong', class_ = 'headline mg').text\n",
    "    file.write(line + '\\n')\n",
    "file.close()"
   ]
  },
  {
   "cell_type": "markdown",
   "metadata": {},
   "source": [
    "### input 함수사용"
   ]
  },
  {
   "cell_type": "code",
   "execution_count": 19,
   "metadata": {},
   "outputs": [],
   "source": [
    "def join_news_text(Count_page, Key_word):\n",
    "    import requests\n",
    "    from bs4 import BeautifulSoup as bs\n",
    "    \n",
    "    url_page = 'https://search.joins.com/JoongangNews?page='\n",
    "    url_key = '&Keyword='\n",
    "    url_rest = '&SortType=New&SearchCategoryType=JoongangNews'\n",
    "\n",
    "    t_url = url_page + str(Count_page) + url_key + Key_word + url_rest\n",
    "    t_url\n",
    "    joins = requests.get(t_url).text\n",
    "    joins_obj = bs(joins,\"html.parser\")\n",
    "    news_obj = joins_obj.find('ul', class_ = 'list_default')\n",
    "    list_len = news_obj.find_all('li')\n",
    "\n",
    "\n",
    "    file = open('/Users/hankiho/Desktop/' + Key_word + Count_page + '검색결과.txt','w', encoding = 'utf-8')\n",
    "    for i in range (len(list_len)):\n",
    "        line = list_len[i].find('strong', class_ = 'headline mg').text\n",
    "        file.write(line + '\\n')\n",
    "    file.close()"
   ]
  },
  {
   "cell_type": "code",
   "execution_count": 24,
   "metadata": {},
   "outputs": [],
   "source": [
    "join_news_text('7','문재인')"
   ]
  },
  {
   "cell_type": "code",
   "execution_count": null,
   "metadata": {},
   "outputs": [],
   "source": []
  }
 ],
 "metadata": {
  "kernelspec": {
   "display_name": "Python 3",
   "language": "python",
   "name": "python3"
  },
  "language_info": {
   "codemirror_mode": {
    "name": "ipython",
    "version": 3
   },
   "file_extension": ".py",
   "mimetype": "text/x-python",
   "name": "python",
   "nbconvert_exporter": "python",
   "pygments_lexer": "ipython3",
   "version": "3.6.8"
  }
 },
 "nbformat": 4,
 "nbformat_minor": 2
}

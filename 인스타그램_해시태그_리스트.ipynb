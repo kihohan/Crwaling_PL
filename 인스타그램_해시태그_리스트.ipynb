{
 "cells": [
  {
   "cell_type": "code",
   "execution_count": 1,
   "metadata": {},
   "outputs": [],
   "source": [
    "import pandas as pd\n",
    "from selenium import webdriver\n",
    "from bs4 import BeautifulSoup as bs\n",
    "import time\n",
    "from selenium.webdriver.common.keys import Keys\n",
    "from tqdm import tqdm_notebook"
   ]
  },
  {
   "cell_type": "code",
   "execution_count": 2,
   "metadata": {},
   "outputs": [
    {
     "name": "stdout",
     "output_type": "stream",
     "text": [
      "키워드: bikini\n"
     ]
    }
   ],
   "source": [
    "keyword = str(input('키워드: '))"
   ]
  },
  {
   "cell_type": "code",
   "execution_count": 3,
   "metadata": {},
   "outputs": [],
   "source": [
    "chromedriver_dir = '/Users/hankiho/Downloads/chromedriver'\n",
    "driver = webdriver.Chrome(chromedriver_dir)\n",
    "driver.get(\"https://www.instagram.com/explore/tags/\" + keyword + \"/\")"
   ]
  },
  {
   "cell_type": "code",
   "execution_count": 4,
   "metadata": {},
   "outputs": [
    {
     "name": "stdout",
     "output_type": "stream",
     "text": [
      "totalCount : 37,803,114\n"
     ]
    }
   ],
   "source": [
    "totalCount = driver.find_element_by_class_name('g47SY').text\n",
    "time.sleep(3)\n",
    "print(\"totalCount :\", totalCount)"
   ]
  },
  {
   "cell_type": "code",
   "execution_count": 5,
   "metadata": {},
   "outputs": [],
   "source": [
    "driver.find_element_by_class_name('_9AhH0').click() #첫번째 포스트 클릭"
   ]
  },
  {
   "cell_type": "code",
   "execution_count": 6,
   "metadata": {},
   "outputs": [],
   "source": [
    "hash_tag_content = []  #해쉬태그를 담을 메인 리스트\n",
    "\n",
    "soup = bs(driver.page_source,'html.parser')\n",
    "obj = soup.find('div', class_='C4VMK')\n",
    "content = obj.find('span')\n",
    "hash_tag = content.find_all('a')\n",
    "\n",
    "hash_tags = [] #포스티 당 해쉬태그 담을 개별 리스트\n",
    "for i in range(len(hash_tag)):\n",
    "    hash_tags.append(hash_tag[i].text)\n",
    "hash_tag_content.append(hash_tags)"
   ]
  },
  {
   "cell_type": "code",
   "execution_count": 7,
   "metadata": {},
   "outputs": [],
   "source": [
    "driver.find_element_by_xpath('/html/body/div[3]/div[1]/div/div/a').click() #두번쨰 포스터 넘기기"
   ]
  },
  {
   "cell_type": "code",
   "execution_count": 8,
   "metadata": {},
   "outputs": [],
   "source": [
    "soup = bs(driver.page_source,'html.parser')\n",
    "obj = soup.find('div', class_='C4VMK')\n",
    "content = obj.find('span')\n",
    "hash_tag = content.find_all('a')\n",
    "\n",
    "hash_tags = [] #포스티 당 해쉬태그 담을 개별 리스트\n",
    "for i in range(len(hash_tag)):\n",
    "    hash_tags.append(hash_tag[i].text)\n",
    "hash_tag_content.append(hash_tags)"
   ]
  },
  {
   "cell_type": "code",
   "execution_count": null,
   "metadata": {},
   "outputs": [
    {
     "data": {
      "application/vnd.jupyter.widget-view+json": {
       "model_id": "b1452ecdf5864ee188318eeb88d73b5a",
       "version_major": 2,
       "version_minor": 0
      },
      "text/plain": [
       "HBox(children=(IntProgress(value=0, max=1000), HTML(value='')))"
      ]
     },
     "metadata": {},
     "output_type": "display_data"
    },
    {
     "name": "stdout",
     "output_type": "stream",
     "text": [
      "100 개 포스팅까지 크롤링 되었습니다.\n",
      "200 개 포스팅까지 크롤링 되었습니다.\n",
      "300 개 포스팅까지 크롤링 되었습니다.\n",
      "400 개 포스팅까지 크롤링 되었습니다.\n",
      "500 개 포스팅까지 크롤링 되었습니다.\n",
      "600 개 포스팅까지 크롤링 되었습니다.\n",
      "700 개 포스팅까지 크롤링 되었습니다.\n"
     ]
    }
   ],
   "source": [
    "i = 0\n",
    "for i in tqdm_notebook(range(10**5)):\n",
    "    try:\n",
    "        for n in range(10**5): \n",
    "            if i == (n + 1) * 10**4: \n",
    "                print (i,'개 포스팅까지 크롤링 되었습니다.')\n",
    "                time.sleep(300)\n",
    "        driver.find_element_by_xpath('/html/body/div[3]/div[1]/div/div/a[2]').click() #두번쨰 포스터 넘기기\n",
    "        time.sleep(5)\n",
    "        soup = bs(driver.page_source,'html.parser')\n",
    "        obj = soup.find('div', class_='C4VMK')\n",
    "        content = obj.find('span')\n",
    "        hash_tag = content.find_all('a')\n",
    "\n",
    "        hash_tags = [] #포스티 당 해쉬태그 담을 개별 리스트\n",
    "        for i in range(len(hash_tag)):\n",
    "            hash_tags.append(hash_tag[i].text)\n",
    "        hash_tag_content.append(hash_tags)\n",
    "    except:\n",
    "        time.sleep(100)\n",
    "        print ('-----------에러-----------')\n",
    "        pass"
   ]
  },
  {
   "cell_type": "code",
   "execution_count": null,
   "metadata": {},
   "outputs": [],
   "source": []
  }
 ],
 "metadata": {
  "kernelspec": {
   "display_name": "Python 3",
   "language": "python",
   "name": "python3"
  },
  "language_info": {
   "codemirror_mode": {
    "name": "ipython",
    "version": 3
   },
   "file_extension": ".py",
   "mimetype": "text/x-python",
   "name": "python",
   "nbconvert_exporter": "python",
   "pygments_lexer": "ipython3",
   "version": "3.6.8"
  }
 },
 "nbformat": 4,
 "nbformat_minor": 2
}

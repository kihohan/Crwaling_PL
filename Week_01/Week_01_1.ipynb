{
 "cells": [
  {
   "cell_type": "markdown",
   "metadata": {
    "slideshow": {
     "slide_type": "slide"
    }
   },
   "source": [
    "# 1. 헬로우 데이터 분석\n",
    "\n",
    "Last updated 20181008MON1100 20180313TUE1147\n",
    "\n",
    "## 1.1 학습내용\n",
    "\n",
    "### 1.1.1 강의 목표\n",
    "\n",
    "* 재미있는 현상이 일어나고 있다. 사람들이 **실제 공간에서 해도 되는 일을 웹에서 하고** 있다. 식당이 몇 시에 문을 여는지 확인하고, 맛집인지 사람들의 평가를 읽고 판단을 하기도 한다. 필요한 정보를 찾기도 하고, 생각이나 감정을 쓰기도 하고 웹에서 실로 많은 일을 하고있다. 소셜네트워크, 웹커뮤니티, 홈페이지, 모바일, 뉴스, 이메일 등 매우 다양한 채널에서 데이터가 생산된다. 웹은 실제 **데이터의 보고**이다. 그러나 이런 데이터의 성격이 과거와는 사뭇 다르다 점에 주의해야 한다. 이런 데이터는 지금까지 우리가 다루던 그 것과는 **다른 특성**을 보이고 있고, 따라서 의미있는 정보 또는 지식을 찾아내려는 연구 및 그 처리과정 또한 **다르게 접근**해야 하겠다. 이 과목은 **데이터 수집부터 시작하여 저장, 분석 및 보고에 이르기까지 그 전체 과정을 프로그래밍으로 실제 해 보게** 된다.\n",
    "* 앞서 말했듯이 **프로그래밍**으로 해보려 하고, 또 **필수**적인 이유는 **빅데이터의 성격** 때문이다. 데이터가 대량이므로 **엑셀**을 이용하거나 좋은 **분석도구**를 사용한다 하더라도 일정 규모를 넘어서면 **처리가 불가능하거나, 비효과적**일 수 밖에 없다.\n",
    "* **웹**, **통계** 관련 선행 지식이 필요하다. 그 이유는 이 과목은 **웹에서 발생한 데이터**를 **프로그래밍**으로 수집, **분석**하기 때문에 그런 선행 지식이 필요하다."
   ]
  },
  {
   "cell_type": "markdown",
   "metadata": {
    "slideshow": {
     "slide_type": "subslide"
    }
   },
   "source": [
    "### 1.1.2 이번 장의 목표\n",
    "\n",
    "* 빅데이터를 처리하려면, 문제의 인식부터 결과를 산출하기 까지 **일련의 프로세스**에 따라서 수행된다. 이를 설명할 수 있게 된다.\n",
    "* 따라서 빅데이터의 문제가 무엇인지, 어떻게 풀어야 하는지, 어떤 결과를 만들어 낼 것인지를 미리 정의해야 한다. 이를 데이터분석 **문제기술서**에 적어서 작성할 수 있게 된다. **예를 들어, 홍보전략을 수립해야 한다고 하고, 이런 문제에 빅데이터를 활용**해 보자. 맞는 문제 기술서를 작성할 수 있어야 한다.\n",
    "* 데이터분석에 필요한 **개발환경**을 설치하고 실행할 수 있다."
   ]
  },
  {
   "cell_type": "markdown",
   "metadata": {
    "slideshow": {
     "slide_type": "subslide"
    }
   },
   "source": [
    "### 1.1.3 문제\n",
    "\n",
    "* 문제 시작-1: 전문점 커피에 대한 미디어 광고 전략을 계획\n",
    "* 문제 시작-2: 커피 관련 글에서 연관 단어 세기\n",
    "* 문제 시작-3: 웹페이지는 창작물이라서 아무나 복사해가서는 안된다. 크롤링하지 하지 말아 달라는 제한을 적어놓은 robots.txt를 확인해 보자."
   ]
  },
  {
   "cell_type": "markdown",
   "metadata": {
    "slideshow": {
     "slide_type": "subslide"
    }
   },
   "source": [
    "### 1.1.4  mini project\n",
    "\n",
    "* 제출 내용\n",
    "\n",
    "**경제**, **사회**, **정치** 현상에 대해 스스로 **흥미있는 주제**를 선정한다. 너무 큰 주제를 선택하지 않도록 주의한다. 그러나 매우 뾰족하고 누구나 흥미있도록 한다. 흥미있는 주제는 이미 미디어에 노출되어 있는 경우가 많다. 방송, SNS를 잘 읽어보자. **답을 도출했을 경우, 누구나 '정말 그래? 그랬구나...'하는 끄덕거림**이 있으면 좋다. 빅데이터를 다루는만큼 데이터가 정해져 있지 않고, **비정형적**이고 **실시간** 발생하는 데이터를 **대량**으로 수집하면 좋다.\n",
    "\n",
    "항목 | 기준\n",
    ":-----:|-----\n",
    "**문제** | 답을 찾으면 어떤 유용성을, 누가 얻는지 따져보고 문제를 정의한다. **Business Value**를 얻을 수 있는 것인지? **빅데이터를 수집하고 분석하는 노력을 들여 푸는 것이 필요한지**? 혹은 빅데이터를 사용하지 않고도 답을 얻을 수 있는 것인지 검토한다. 선호, 만족, 느낌과 같은 정성문제라도 좋다. 단 **정량적인 분석방법**으로 풀어야 한다.\n",
    "**데이터**    | 질문을 대답하기 위한 어떤 데이터를 수집할 것인지 정의한다. 데이터를 어떻게, 어디서, 얼마나 수집할 것인가? 저작권 문제가 있는지, 크롤링 또는 API로 가져오는 방식이 있다면 그에 따라 실행한다.\n",
    "**답** | 문제에 대한 해결을 하려면 어떤 분석을 하는 것이 필요한가? 간단한 집계, 평균, 빈도부터 추론, 추천, 예측과 같은 머신러닝\n",
    "**소스코드**  | 문제-데이터-답을 찾는 과정에서 작성한 프로그램 소스코드. 데이터 수집부터 시각화까지 모든 절차에 사용한 소스코드를 포함한다."
   ]
  },
  {
   "cell_type": "markdown",
   "metadata": {
    "collapsed": true,
    "slideshow": {
     "slide_type": "subslide"
    }
   },
   "source": [
    "* 미니프로젝트를 스스로 해 보는 것이 왜 중요한가? 빅데이터를 다루어 본 경험이 필수적이기 때문이다. 미니프로젝트에서 빅데이터를 다루어 보았는지 알 수 있는 중요한 체크리스트는 다음과 같다.\n",
    "    * **얼마나 큰 데이터**를 처리해 보았는지 설명할 수 있어야 한다. 빅데이터는 말 그대로 **종전에 다루었던 규모보다 훨씬 큰** 대량의 데이터를 대상으로 하고 있다. 기가급, 테라급 데이터를 다루어야 빅데이터이다.\n",
    "    * 그 데이터를 처리하는 과정은 어떠했는지? **엑셀이나 통계패키지 등을 사용해서 그 과정이 종전의 방식으로 처리**하지 않았는지 주의하자.\n",
    "        * 빅데이터 처리에 **프로그래밍**을 사용하였는가? 프로그래밍을 하지 않았으면 빅데이터가 아니라 **스몰**데이터일 수 있다.\n",
    "        * 어떻게 **수집**, 어떻게 **분석**하였나, 어떻게 **시각화**? **빅데이터 처리기법**을 적용하도록 한다.\n",
    "    * 그 결과는 무엇이었나? 원하는 결과를 얻었는가? 예를 들어, 소비자 기호를 분석하려 했다면 그 결과를 얻었는가? 그렇다면 **어떤 기법으로 그 결과를 얻었는가?**\n",
    "        * 단순 통계만 사용하였는가?\n",
    "        * 추천은 하였는가? 머신러닝으로 예측하였는가?\n"
   ]
  },
  {
   "cell_type": "markdown",
   "metadata": {
    "slideshow": {
     "slide_type": "subslide"
    }
   },
   "source": [
    "* 서울특별시 **빅데이터캠퍼스**를 활용해 보자 (http://bigdata.seoul.go.kr)\n",
    "    * 2018.9.3 월 ~ 2018.11.9 금 서울시 빅데이터 캠퍼스 공모전\n",
    "    * 서울시 빅데이터캠퍼스 데이터를 주요 데이터로 활용한 분석 자료\n",
    "    * 공모전 사전설명회 및 공모전 프리데이 강연 2018.10.06 토. 온라인 등록 (www.onoffmix.com/event/150487)"
   ]
  },
  {
   "cell_type": "markdown",
   "metadata": {
    "slideshow": {
     "slide_type": "subslide"
    }
   },
   "source": [
    "* 학습 자세\n",
    "    * 문제를 스스로 풀어 보는 것이 좋다. **빅데이터 문제**는 어떤 데이터를 가져와야 하는지, 어떻게 풀어야 하는지 **정해진 방법이 없는 경우가 보통이다**. 물론 이 과목에서는 도구, 기법을 배우게 된다. 따라서 그러한 도구, 기법을 어떻게 활용하는지는 자신에게 달려 있다. 풀려고 하는 문제조차 스스로 정하고 분석하는 것이 좋겠다.\n",
    "    * **재미**를 가져야 한다. '재미'는 '해봐야겠다'라는 **학습욕구**를 부추긴다. '이걸 왜 하지?', '학점이나 받아야지'라는 생각은 낭비이다. 빅데이터를 다루고 분석하는 능력은 실로 **보통 데이터로는 지나칠 수 있는 흥미있는 정보, 지식**을 만들어 내기도 한다. 그런 걸 해보는 재미를 가진다면 학업성취에 있어서 큰 차이를 만들 것이다.\n",
    "    * 빅데이터는 한 과목으로 모든 것을 배울 수 없다. 이 강의를 듣고 나면, 이제 스스로 빅데이터를 수집하고 싶어하고, 그 데이터로 부터 의미있는 정보, 지식을 만들어 내고, 스스로 무언가를 할 수 있는 **자기학습**을 할 수 있게 된다."
   ]
  },
  {
   "cell_type": "markdown",
   "metadata": {
    "slideshow": {
     "slide_type": "subslide"
    }
   },
   "source": [
    "* 다음 일정에 따라 사이버강의실에 제출한다. 소스코드는 Github을 사용하는 편이 좋아서, 사용할 수 있다면 Github를 사용할 수 있다.\n",
    "\n",
    "주 | 기한 | 내용\n",
    "-----|-----|-----\n",
    "1차 | 7주 토요일 | 문제를 정하고, 어떤 데이터를 사용할 것인지. 소스코드가 있으면 포함. 온라인 제출.\n",
    "2차 | 13주 토요일 | 문제, 데이터, 답, 소스코드 및 발표자료 제출 (온라인 및 Hard copy). 14주 발표."
   ]
  },
  {
   "cell_type": "markdown",
   "metadata": {
    "slideshow": {
     "slide_type": "slide"
    }
   },
   "source": [
    "## 1.2 소개\n",
    "\n",
    "### 1.2.1 데이터사이언스\n",
    "\n",
    "데이터사이언스는 말 그대로 **데이터 과학**이다.\n",
    "사전적으로 과학이란 \"**보편적인 진리나 법칙의 발견을 목적으로 한 체계적인 지식**\"으로 정의하고 있다 (국립국어원 표준국어대사전).\n",
    "데이터과학이란 데이터를 생성하고, 검증하고 변환하여 그로부터 의미를 과학적으로 찾아내는 학문이라고 한다 (http://www.datascienceassn.org/code-of-conduct.html)\n",
    "데이터과학이란 데이터로부터 사실이나 법칙을 얻어내기 위해 체계적, 과학적인 방법, 절차, 시스템을 말할 수 있다. 그러니까 데이터가 아니라 **과학에 초점**을 맞추어야 한다. 가설을 정의하고 실험으로 증명하거나 이론을 세워 관찰을 통해 사실을 발견하는 과학적 방법이 필요하다.\n",
    "이 자리를 오랫동안 **통계학**이 차지해 오고 있었는데, 왜 갑자기 데이터사이언스 또는 데이터과학이라는 용어가 필요한 것일까? 그 이유는 데이터의 성격이 과거와는 다르기 때문이다 (Dhar, 2013)."
   ]
  },
  {
   "cell_type": "markdown",
   "metadata": {
    "slideshow": {
     "slide_type": "subslide"
    }
   },
   "source": [
    "* 첫째, 데이터가 **대량**으로 발생하고 있다. 특히 웹이 널리 쓰이면서 발생하는 데이터 량이 급증하고 있다. SNS 건수가 억 단위를 넘어선지 오래다. 예를 들어, 한국의 호적데이터는 대표적인 대량 데이터로 볼 수 있었다. 가족의 관계데이터를 보관하는 특성 상 억 단위를 넘고 있다. **웹**에서는 이런 대량 데이터가 유투브, 트위터, Facebook 등 적지 않다.\n",
    "* 또한 발생하는 **속도**가 빠르다. SNS는 문자메시지와 같이 매우 빠르게 공유된다. 버스운행, 날씨, 주가 등 발생하는 시점과 거의 동일하게 실시간 또는 거의 실시간으로 공유되는 특징이 있다.\n",
    "* 데이터가 **이질적**이다. 비디오, 오디오, 이미지, 문자 등으로 데이터가 구성되어 과거 숫자가 많았던 경우에 비해 매우 이질적이다. 특히 최근에는 웹의 사용이 늘면서 빅데이터라는 용어와도 혼용되고 있다. 웹은 마크업언어가 쓰이므로, 데이터를 얻으려면 상당한 노력이 필요하게 되었다.\n",
    "* 데이터가 **비구조적**이다. 구조적 데이터, structured data는 필드가 있고, 각 필드에 대해 형식을 정해져 있다. SQL을 사용하여 데이터를 처리하면 편리하다. 스프레드쉬크와 같이 행, 열로 데이터를 구성할 수 있다. 자동차를 메이커, 색, 가격, 배기량으로 분류하는 구조적 분석보다는 어느 메이커를 좋아하나, 왜 좋아하나 이른바 **입소문**에서 의미있는 데이터를 분석해내려는 노력이 있다. 이런 데이터는 비구조적이다.\n",
    "    \n",
    "메이커 | 색 | 가격 | 배기량\n",
    "-----|-----|-----|-----\n",
    "H | 검은색 | 3500 | 2000\n",
    "B | 흰색 | 3000 | 2500"
   ]
  },
  {
   "cell_type": "markdown",
   "metadata": {
    "slideshow": {
     "slide_type": "subslide"
    }
   },
   "source": [
    "이런 데이터 성격은 사전처리, 즉 데이터를 미리 분석해 놓는 것이 큰 의미를 가지기 어려워졌다.\n",
    "전통적인 방식의 데이터분석, 그러니까 여기서 말하는 데이터사이언스 이전에는 **전산실에 부탁**하면 데이터 처리과정을 거쳐 원하는 데이터를 사용자에게 넘겨주었다. 분기별 매출, 사용자 특성별 매출이익과 같은 예를 들 수 있다. 이 후 사용자가 컴퓨팅 능력이 생겨나면서, 즉 **EUC, End User Computing**을 통해 원시데이터를 직접 분석할 수도 있게 되었다. 사용자가 **엑셀을 사용해서, 분석, pivoting, graph 작업**을 하는 예이다.\n"
   ]
  },
  {
   "cell_type": "markdown",
   "metadata": {
    "slideshow": {
     "slide_type": "subslide"
    }
   },
   "source": [
    "데이터 사이언스는 말 그대로 '데이터를 처리한다'는 넓은 의미로 쓰이다가, 학문으로 '데이터 사이언스'라고 쓰이게 된 것은 90년대 중, 후반이다. 데이터사이언스에서 말하는 데이터 수집, 분석, 처리는 과거부터 존재했다. **BI** (Business Intelligence), **OLAP**, **데이터마이닝**, **기계학습** 등으로 데이터는 분석되어 왔다.\n",
    "\n",
    "데이터사이언스는 수학, 통계, 컴퓨터과학, 정보과학, 경영학 등의 학습이 필요한 매우 **다학제적**이다 (Press, 2013). 한 마디로 매우 그럴듯하게 HBR에서 **21세기 The Sexiest Job** (Davenport & Patil, 2012)이라고 주장하고 있고 인력에 대한 수요도 늘어가고 있다. 이를 필요로 하는 업무가 늘어나고 있고 학위과정도 생겨나고 있다.\n",
    "\n",
    "> **OLAP** 온라인 분석처리\n",
    ">\n",
    "> OLAP은 온라인 분석처리 Online Analytical Processing의 약어로서, 데이터를 다차원으로 사전에 집계해 놓고 사용자 질의에 빠르게 대답할 수 있게 하고 있다. 매출의 예를 들어 요일별, 월별, 분기별로 **시간별** 합계를 별도의 실시간 처리없이 바로 볼 수 있게 하는 것이 좋은 예다. 또는 지역별, 부서별, 제품별로 구성하여 분석할 수 있다.\n"
   ]
  },
  {
   "cell_type": "markdown",
   "metadata": {
    "slideshow": {
     "slide_type": "subslide"
    }
   },
   "source": [
    "### 1.2.2 왜 필요한지는 수급에서 찾을 수 있다\n",
    "\n",
    "우리나라는 독특한 시장구조를 가지고 있다. 국내시장규모가 제한적이어서 이른바 **쏠림 현상**이 있다. 어떤 기술이 유행을 하면 쏠림 현상이 발생한다. 프로그래밍 언어를 보자. 다양한 언어 시장이 존재하는 것이 아니라, **Java** 수요가 월등히 높다. 이러한 쏠림 현상이 다양한 분야에 고르게 온기가 퍼지는 규모가 큰 시장과 다르다. 그러나 선진국을 선행으로 따라간다고 가정하면 매우 의미있는 예측을 할 수 있으므로 인력수급에 대한 예를 살펴보자.\n",
    "\n",
    "* 빅데이터 인력수요가 많다.\n",
    "    * [McKinsey](http://www.mckinsey.com/business-functions/business-technology/our-insights/big-data-the-next-frontier-for-innovation] 인력부족 2018년까지 미국 140,000 ~ 190,000 분석전문가, 150만 관련 관리자 및 분석담당\n",
    "    * [2018년 미국 \"Best job\"](https://www.glassdoor.com/List/Best-Jobs-in-America-LST_KQ0,20.htm) Data Scientists는 미국에서 가장 수요가 많은 직업\n",
    "    * 주요 대학에서 강의가 잇따라 개설되고 있다 - UC Berkeley, NYU, MIT, U Columbia, Univ. of Michigan\n",
    "    * [기사](http://v.media.daum.net/v/20170214093203675)\n",
    "        * 면접에서 높은 급여 제안을 받은 데이터 과학자의 전문기술은 기계 학습, 데이터 분석, 파이썬, SQL, 통계 등.\n",
    "        * 댓글 가운데 하나 \"...대신 우리나라 개발자들은 미래가 보장되있어요 치킨집 사장...\""
   ]
  },
  {
   "cell_type": "markdown",
   "metadata": {
    "slideshow": {
     "slide_type": "subslide"
    }
   },
   "source": [
    "### 1.2.3 통계학과 빅데이터는 다르다.\n",
    "\n",
    "* **모두 데이터를 분석** 한다는 공통점이 있다.\n",
    "* 빅데이터는 다루는 **데이터의 양**에 차이가 있다. 컴퓨터 1대에서 처리할 수 없다. 분산해서 처리해야 한다.\n",
    "* 통계학는 **샘플링을 해서 모집단을 추정**한다.\n",
    "\n",
    "구분 | 빅데이터 | 통계학\n",
    "-----|-----|-----\n",
    "**데이터량** | 제한이 없다, 테라급 이상 | 제한이 있다\n",
    "**샘플** | 전체 | 표본, 설문, 추론 등\n",
    "**분산처리** | Yes | No\n",
    "**대표적인 SW** | Hadoop, Spark | SAS, SPSS, Minitab\n",
    "**데이터 형식** | 비정형, 텍스트 | 정형, 숫자"
   ]
  },
  {
   "cell_type": "markdown",
   "metadata": {
    "slideshow": {
     "slide_type": "slide"
    }
   },
   "source": [
    "## 1.3 why Python, Web\n",
    "\n",
    "* Python은 빅데이터를 처리할 때 **가장 많이 사용되는 언어** 중의 하나\n",
    "    http://www.kdnuggets.com/2017/01/most-popular-language-machine-learning-data-science.html\n",
    "\n",
    "* 웹은 이미 사람들의 **생각, 활동 등이 기록되고 있는 최대의 미디어**로서 빅데이터를 생산해내고 있다.\n",
    "\n",
    "* 온라인 학습자료\n",
    "웹, Python 관련 자료이다. 영문 또는 한글로 되어 있어 적절한 자료를 골라 학습한다.\n",
    "    * [웹](w3schools.com) html, css 등 웹 관련 언어를 배우는 사이트\n",
    "    * [Python](https://www.learnpython.org/about)\n",
    "    * [Python online book and video](http://interactivepython.org/runestone/static/thinkcspy/index.html) How to Think Like a Computer Scientist 책을 웹에서 실행하면서 배울 수 있다. 동영상도 포함되어 있다.\n",
    "    * [한글 Byte of Python](http://byteofpython-korean.sourceforge.net/byte_of_python.html)\n",
    "    * [한글 codecademy python](https://www.codecademy.com/ko/tracks/python-ko)"
   ]
  },
  {
   "cell_type": "markdown",
   "metadata": {
    "slideshow": {
     "slide_type": "slide"
    }
   },
   "source": [
    "## 1.4 데이터사이언스 절차\n",
    "\n",
    "과학은 진실 또는 지식을 생산한다. 신문기사 역시 진실을 생산하지만, 과학은 아니다.\n",
    "과학은 **과학적 절차**에 따라 그 과정이 실행되어야 한다.\n",
    "즉 **과학적 의문이 먼저 제기**되어야 한다. 그리고 그 의문의 답에 필요한 데이터를 수집하고, 모델링 및 분석을 하고 답을 추론하는 과정이 뒤 따른다.\n",
    "\n",
    "데이터사이언스 역시 과학적 절차에 따라 이루어져야 한다.\n",
    "**문제를 정의하고, 그 문제를 해결해 나가는 과정이 과학적**으로 일어나야 한다.\n",
    "\n",
    "데이터사이언스는 개인적 흥미에 따라 수행되기도 한다. 문득 어떤 문제가 궁금해서 데이터를 수집하고 답하는 노력을 들일 수 있다.\n",
    "데이터사이언스는 보통 회사 또는 조직에서 어떤 목적을 가지고 실행된다. 공적인 목적으로 범죄를 예방하거나, 상업적인 신상품 개발이나, 정치적인 선거 예측 등이 모두 그렇다.\n",
    "* 문제를 먼저 생각하고 가설을 설정한다. 이 문제를 풀면 어떤 business value가 향상되는지 답할 수 있어야 한다.\n",
    "* 그리고 어떤 데이터를 수집해서, 분석할지 생각한다 (Simon, Mintzberg)\n",
    "\n",
    "> business value\n",
    ">\n",
    "> 경영학에서 비지니스가치는 경쟁력을 향상시키는 어떠한 유무형의 가치를 의미하는 단어.\n",
    "> **투자수익**, **사업이익** 등을 예로 들 수 있다. 또한 조직이 건강하려면 관리해야 할 정량 지표를 선별하여 balanced scorecard를 만들어 추적하기도 한다.\n"
   ]
  },
  {
   "cell_type": "markdown",
   "metadata": {
    "slideshow": {
     "slide_type": "subslide"
    }
   },
   "source": [
    "데이터과학는 문제를 풀어가는 절차로서 문제가 무엇인지, 그에 필요한 데이터를 수집하고 모델링하고 분석하여 결과를 시각화하는 단계를 거친다.\n",
    "\n",
    "단계 | 설명 | 도구\n",
    "-----|-----|-----\n",
    "문제정의 | 목적이 무엇인지, 문제를 정확히 이해하고,  1) 현상의 이해인지 또는 2) 예측인지? 종전과 달리 빅데이터로 풀면 더 통찰력을 얻는가?| 브레인스토밍\n",
    "수집 | 문제해결에 어떤 데이터를 수집할 것인가? 어디서 수집할 것인지 그 방법은?<p>수집된 데이터가 빅데이터인가?<p>빅데이터는 그 **출처가 다양**하고, **실시간**으로 또한 **대량**으로 발생한다.<p>이 강의에서는 웹사이트를 **크롤링**하거나, **정부가 공개하는 데이터** 또는 **SNS**에서 데이터를 수집한다. 웹 데이터의 수집에 필요한 OAuth 인증과 REST API를 실습한다. 수집된 데이터는 파일 또는 NoSql을 사용하여 저장한다.| 크롤링, API (열린광장, SNS)\n",
    "정제 | 문제에 대한 답을 구하려면 수집된 데이터를 어떻게 구조화하는가? 필요한 정보항목 또는 속성을 **추출**하고, 분석에 필요한 구조로 **변환**하여 분석가능한 구조로 만들 수 있게 함 | map-reduce...\n",
    "저장 | 파일, DB, NoSQL | csv, MongoDB, Apache Cassandra\n",
    "분석 | 수집된 데이터를 어떻게 분석하는가? 단순 집계 또는 평균으로 충분한가? 통계분석, 추론, 머신러닝, 예측이 필요한가?  ETL에서 만들어진 빅데이터를 분석하기 위해서는 분산구조가 필요하게 된다. 이 강의에서는 빅데이터를 분석하기 위해 사용하는 **Spark**를 실습 한다. | knn, decision tree, nbayesian...\n",
    "시각화 | 리포팅 | d3.js...\n"
   ]
  },
  {
   "cell_type": "markdown",
   "metadata": {
    "slideshow": {
     "slide_type": "subslide"
    }
   },
   "source": [
    "### 1.4.1 문제를 정의하기\n",
    "\n",
    "#### 문제\n",
    "\n",
    "문제란 **현재와 목표 간에 존재하는 차이**가 있을 경우 발생한다. 예를 들어, 매출이 감소하거나 투자 수익율이 목표에 미치지 못하거나 자동차를 제조하는 공정이 늦는 등 목표로 하는 상태에 미치지 못해 차이가 발생하고 마침내 풀어야 하는 문제가 된다. 그 차이가 크면 클수록 문제가 심각해지는 것이 보통이다.\n",
    "\n",
    "문제를 해결하려면 관련 **정보를 수집하고 분석**하고, 목표로 갈 수 있는 **가능한 대안**을 찾고 이 가운데 **최적 안**을 결정하게 된다. 데이터가 없이는 이러한 문제가 풀려나갈리 없다. 현재 상황을 파악하거나, 목표로 가는 대안을 생성하거나, 그 대안을 평가하는 모든 단계마다 **데이터를 수집하고, 분석하는 작업이 필수적**으로 수반되어야 한다."
   ]
  },
  {
   "cell_type": "markdown",
   "metadata": {
    "slideshow": {
     "slide_type": "subslide"
    }
   },
   "source": [
    "데이터분석을 하기 위해서는 먼저 문제를 정의하는 것이 중요하다.\n",
    "**분석은 화살**, **문제는 과녁**으로 비유할 수 있겠다. 즉 과녁이 올바르지 세워져 있지 않으면 화살은 날아갈 곳이 없게 된다. 따라서 **올바른 데이터 분석은 무엇보다 먼저 문제를 정의**하는 것이 매우 중요하다.\n",
    "문제를 정의하지 않으면 어떻게 해결할지 알 수 없기 때문이다.\n",
    "\n",
    "물론 문제를 정의하지 않고도 분석할 수 있다. 데이터 낚시질, **data fishing** 또는 탐색적으로 '저인망식 훓기' **data dredging** 분석이 되기 때문이다. 즉, 수집된 데이터에서 가능한 모든 데이터분석을 하는 것이다. 이는 문제를 사전에 정의하지 않았기 때문에 손쉬운 데이터를 수집하고, 문제가 안 정해져 있으니 수집된 데이터에서 탐색적으로 분석하면서 가능한 모든 분석을 해버리는 것이다. **'안걸리면 말고' 식**으로 훓어가다, 원하는 대답을 얻으면 역으로 상응하는 문제를 정의하게 된다. 예를 들어, 매출이 줄어들고 있다고 하자. 통찰력있게 문제를 정의하지 않고, 커피매출 데이터를 수집하여, 분석을 한다. 나이, 지역 또는 사용자 특성별로 분석하여 그 차이를 볼 수 있다. 대학가 부근에서는 20대 남성이 매출에 기여한다고 분석해낼 수 있다. 그러나 문제가 정확하게 정의되어 있지 않다면, 대체재의 영향 또는 계절적 요인 등 수집되지 않은 데이터가 필요할 수 있고 대답을 얻지 못하게 될 수 있다. **보다 깊은 분석을 하려면, 문제를 정확히 진단하고 정의**하는 것이 필요하다."
   ]
  },
  {
   "cell_type": "markdown",
   "metadata": {
    "slideshow": {
     "slide_type": "subslide"
    }
   },
   "source": [
    "#### 문제 구분\n",
    "\n",
    "문제는 **문제를 푸는 방법을 알고 있는지에 따라 구분**할 수 있다. **일상 문제**, routine problem은 문제를 어떻게 푸는지 방법을 알고 있고 단지 실행만 하면 된다. 쉬운 덧셈, 곱셈 또는 사각형의 면적을 구하는 문제는 단순히 산식을 계산하기만 하면 되는 일상적 문제의 예이다. 그에 반해 **비일상적 문제**, nonroutine 또는 창의적 문제는 그 푸는 방법을 몰라서 창의적으로 해법을 찾아내야 한다. 한강이 올해는 언제 처음 얼까?와 같은 문제는 한 예이다.\n",
    "\n",
    "또한 문제가 **얼마나 정의가 되어 있는 정도가 구분 기준**이 될 수 있다. 문제의 1) 현재 상태, 2) 목표하는 원하는 상태, 3) 해야 할 작업이 분명하게 정의된 경우를 **잘 정의된 문제**, well defined problems라고 할 수 있다. 반대로 **잘 정의되지 않은 문제**, ill defined problems라고 한다."
   ]
  },
  {
   "cell_type": "markdown",
   "metadata": {
    "slideshow": {
     "slide_type": "subslide"
    }
   },
   "source": [
    "#### 빅데이터 문제\n",
    "\n",
    "빅데이터 문제는 일상적이지도, 잘 정의되지지 않은 경우가 보통이다. 빅데이터를 필요로 하는 문제를 풀려면 **창의적 사고**가 필요하다. 창의적 사고란 **이미 존재하는 사고로 풀리지 않는 문제**를 **과거에 존재하지 않았던 방식**을 활용하여 **효과적으로 문제를 푸는** 것이다. 또는 **융합적 사고**가 필요한 경우도 많다. 하나의 학문분야에서 제시하는 해법이 아니라 연관된 또는 비연관된 **다학제적인 방식으로 문제를 풀어나가는** 것이다. 과거 우리가 다루는 데이터로 **종전에는 쉽게 풀기 어려운 문제를 풀어가는 방법**으로서 빅데이터는 사회, 정치, 경제의 문제를 푸는 열쇠가 될 수 있다.\n",
    "\n",
    "***현상의 이해:*** 일상생활에서 흥미를 가질 수 있는 문제는 여럿 있을 수 있다. 이런 의문은 주로 **현상의 이해**이다. 이미 발생한 과거의 사건에 대한 문제이다.\n",
    "* '허니버터칩' 과자가 어떻게 유행하게 되었을까?\n",
    "* 싸이의 '강남스타일' 노래는 유투브 최다 조회를 어떻게 기록할 수 있을까?\n",
    "* 작년 유행했던 '색'은 경기침체와 연관이 있을까?\n",
    "\n",
    "***예측:*** 빅데이터는 적극적으로 **예측**에 활용할 수 있다. 과거의 현상을 분석하여 얻게 된 **통찰력**을 가지게 되고 예측에 사용하는 것이다.\n",
    "* 이른바 '대박' 상품은 미리 알 수 없을까? 영화가 천 만 관객을 끌어낼 수 있을까? 신곡이 챠트에 오를 수 있을까?\n",
    "* 선거에서 당락을 예측할 수 있을까? 선거에서 어느 후보가 당선이 될 것인가?"
   ]
  },
  {
   "cell_type": "markdown",
   "metadata": {
    "slideshow": {
     "slide_type": "subslide"
    }
   },
   "source": [
    "빅데이터는 종전에 사용했던 데이터와 달리 **대량의 실시간 데이터**를 가지고, **종전에는 불가능하거나 또는 어려운 방법**으로 의미 또는 통찰력을 꺼내, 종전보다 빠르게 **거의 실시간**으로 분석하여 문제를 해결할 수 있다.\n",
    "\n",
    "* 문제의 예는:\n",
    "    * 매출을 현재보다 10% 늘리려면 무엇을 해야하나?\n",
    "    * 누가 당선이 될까?\n",
    "    * 커피를 차보다 더 마실까?\n",
    "    * 대중교통을 더 많이 사용하게 하려면?\n",
    "    * 뉴요커는 어떻게 자전거를 탈까\n",
    "    * 뉴욕에서 가장 바쁜 Uber base?\n",
    "    * 잘 사는 나라가 교육수준\n",
    "    * 서울 사람들은 자전거를 왜 타나?\n",
    "    * 날씨가 흐릴 때는 사람들은 무엇을 먹고 싶어할까?\n",
    "    * 날씨와 색 분석\n",
    "    * 왜 '돌아와요 부산항에' 노래를 좋아하나?"
   ]
  },
  {
   "cell_type": "markdown",
   "metadata": {
    "slideshow": {
     "slide_type": "subslide"
    }
   },
   "source": [
    "#### 문제 기술\n",
    "\n",
    "문제 기술은 육하원칙을 생각하면서 적는다. 어떤 문제를 해결하려고 하는지? 고객은? 그 영향은? 이 문제를 해결하는 것이 왜 중요한지, 누가 사용하는 것인지 정확하게 인식해야 한다. 그냥 재미있을 것 같아서 '무작정' 해보려 해서는 안된다. '누가 분석 결과를 사용할 것이며', '왜 필요한지'가 부정확하면 **'business value 비지니스 가치'**가 부족하다. \n",
    "\n",
    "회사 마케팅 부서에서 매출을 늘리려고 하는 노력은 빈번하게 요구된다. 이런 경우 마케팅 부서에서 필요한 데이터, 분석 방향 및 어떤 결과를 원하는지 충분히 알려줄 수 있는 것이다. 홍보전략을 수정하거나 새로운 상품을 설계하는데 데이터 분석 내용이 활용된다면 비지니스 가치는 충분하다."
   ]
  },
  {
   "cell_type": "markdown",
   "metadata": {
    "slideshow": {
     "slide_type": "subslide"
    }
   },
   "source": [
    "또한 문제를 해결하려면, 필요한 데이터는 무엇인지? 어떻게 문제를 해결할 것인지 문제기술서에 적는 것이 필요하다. 물론 지금은 시작하는 초반이므로 완전하게 해결방법을 정할 수는 없다. 그림, 목록 등으로 자유롭게 **수작업**으로 어느 정도 실행해 보는 것이 후반의 시행착오를 줄일 수 있다.\n",
    "* 어떤 데이터를 대상으로,\n",
    "* 어떻게 수집하고,\n",
    "* 어떻게 분석할 것인지, 종속변수와 독립변수가 있는 것인지, 머신러닝으로 훈련할 것인지 등\n",
    "\n",
    "구분 | 설명\n",
    "-----|-----\n",
    "what | 목적을 분명하게 문제를 적는다. 문제는 물음표로 끝나고 '네', '아니오'로 분명하게 답할 수 있어야 한다. 또한 실제 데이터 수집, 분석이 있기 전에 그 답변을 예상할 수 있고, 그 답에 따른 영향을 먼저 계획할 수 있는 편이 좋다.\n",
    "who | 고객이 있어야 한다. 누가 문제의 답을 필요로 하는가? 문제가 해결되었다고 '오케이' 사인을 내는 사람이 고객이다.\n",
    "why | 문제의 중요성을 적는다. 왜 이 문제가 중요한지, 해결이 되면 무엇이 좋아지는지, 이익을 얻을 수 있는 것인지 비용이 감소할 수 있는 것인지 서비스가 향상되는 것인지 인지한다.\n",
    "how | 문제 해결을 어떻게 할 것인지 필요한 데이터 속성, 모델링, 분석 방법 등을 정해 놓는다. 이 단계에서는 완전하게 적을 수는 없고, 탐색적으로 해보는 것이 좋다. 수작업으로 그림을 그리면서 해보는 것이 좋고 다음 단계에서 시행착오를 줄일 수 있다.\n",
    "when | 문제가 언제 발생하는지, 계절적인지 제품발표 때인지 인식한다. \n",
    "where | 문제가 발생하는 지역, 상품, 업무 등을 적는다."
   ]
  },
  {
   "cell_type": "markdown",
   "metadata": {
    "slideshow": {
     "slide_type": "subslide"
    }
   },
   "source": [
    "* 문제기술 예\n",
    "\n",
    "(what) 현재 영화가 개봉되었다. 이 영화가 천만 고객이 들 것인가? 어떤 마케팅 전략이 필요한가?\n",
    "\n",
    "(who) 영화제작사, 배급사는 관객들의 유인책과 인기몰이를 위해 어떻게 해야 할 것인가?\n",
    "\n",
    "(why) 투자금 회수를 위해 영화 흥행은 꼭 필요하다. 영화 흥행에는 주연배우, 스토리라인, 블록버스터급 액션 등 볼거리가 영향을 미친다. 이미 촬영이 끝나고 배급이 이루어지는 상태에서는 입소문 (WOM, Words of Mouth)이 큰 역할을 한다. 개봉 전후 사람들이 어떤 평가를 내리는지 분석 필요.\n",
    "\n",
    "(how) SNS, 댓글, 블로그에서 사람들이 영화에 대한 입소문을 **개봉발표 전후 10일** 정도 수집\n",
    "* 영화를 보고 나서 '좋아요' 평가를 하는 사람들을 분석\n",
    "    * 성향을 분석. 년령, 직업, 성별 등으로 구분. 개인정보 취득이 어려움. (머신러닝)\n",
    "    * '좋아요'와 연관된 단어를 분석. 일별 건수의 증가 (회귀분석)\n",
    "    * '좋아요' 글의 전파 분석하고, 글을 퍼나르고 영향력이 큰 중심인을 파악해서 집중 마케팅 (그래프 분석)\n",
    "* '나빠요' 평가에 대해 대칭적으로 분석\n",
    "\n",
    "이 예제에서 보듯이, 영화문제는 낯설을 수 있다. 영화산업에 대한 지식이 없는 사람이라면 생각해 내기 어려운 점이 있다는 점에서 융합적 접근이 요구된다. 문제에 대한 답을 도출하려면 어떤 데이터가 필요할까? 라고 그림또는 목록을 수작업으로 해 볼 수 있다. 또는 브레인스토밍으로 문제해결 설계까지 해야 한다."
   ]
  },
  {
   "cell_type": "markdown",
   "metadata": {
    "slideshow": {
     "slide_type": "subslide"
    }
   },
   "source": [
    "### 1.4.2 데이터 수집\n",
    "\n",
    "앞서 문제를 찾고, 그 문제를 어떻게 풀 수 있는지 생각을 했다. 이런 과정은 창의적, 융합적일 수 밖에 없다고 했다. 문제가 정의되었으면, 답을 찾기 위해 데이터를 수집해야 한다. 앞서 문제를 풀기 위해 어떤 데이터가 필요한지 미리 정하는 것이 필요하다. 그러나 막상 필요한 데이터를 수집하려고 하면 없거나, 생각과 다른 경우도 부지기수로 많다."
   ]
  },
  {
   "cell_type": "markdown",
   "metadata": {
    "slideshow": {
     "slide_type": "subslide"
    }
   },
   "source": [
    "일단 수집할 데이터, 그 대상이 결정되면 **수집은 기술적**인 숙련도에 따라 좌우될 수 있다. 빅데이터는 대량의 데이터를 대상으로 하기 때문에 **수작업**으로 데이터를 가져오려면 문제해결이 늦어질 수 밖에 없다. 그 데이터 수집, 정련, 분석 등의 작업에 소요되는 시간이 매우 많이 걸리기 때문이다. 따라서 빅데이터는 **프로그래밍으로 자동화**된 방식으로 그 절차가 수행되는 것이 보통이다.\n",
    "\n",
    "* 필요한 데이터는 어디에 있는지 찾는다. 최근에는 정보가 공개되고 있고 이는 수집이 비교적 용이하다. 공공기관에서도 많은 데이터를 공개하고 있는 추세이다. 서버의 로그 데이터, 카드거래 데이터, 부동산 경매 데이터 등도 좋은 대상이 된다. 개인을 특정할 수 있는 데이터는 **사적 정보**가 포함되어 획득이 어렵다.\n",
    "* 어떻게 수집할 수 있는가? 요즘은 많은 데이터가 웹에 있다. 소셜데이터, 블로그 등이 그렇다. 웹사이트를 크롤링하거나, 정부에서 개방하는 데이터 또는 SNS에서 데이터를 수집한다. 특히 크롤링은 저작권 문제가 있어 주의가 필요하다. 수집에 필요한 **OAuth** 인증과 **REST API**를 사용해 **JSON**, **XML** 형식을 처리할 수 있다.\n",
    "* 데이터 **용량**은 얼마나 되나? 수집된 데이터는 **파일** 또는 **NoSql**을 사용하여 저장할 수 있다.\n",
    "* 샘플 데이터인지? 전체 데이터인지?\n",
    "* 데이터 **형식**은 quantitative vs text - 문자데이터는 어떻게 처리하는가? 주관적 데이터, 예를 들면 좋다, 재미없다, 지루하다와 같은 데이터는 어떻게 처리하는가? 숫자데이터는 평균, 표준편차, 통계를 사용할 수 있다.\n",
    "* 데이터의 속성 명이 있는지?\n",
    "* 빈데이터, 특수문자 등이 있는지?"
   ]
  },
  {
   "cell_type": "markdown",
   "metadata": {
    "slideshow": {
     "slide_type": "subslide"
    }
   },
   "source": [
    "### 1.4.3 데이터 변환\n",
    "\n",
    "빅데이터는 다양한 채널에서 발생하고, 그 작성된 형식이 미리 정해져 있기 않기 때문에 데이터가 비구조적이고 깨끗하지 않다.\n",
    "따라서 수집한 원시 데이터, 즉 말 그대로 'raw' 아직 가공되지 않은 **'원시' 데이터를 분석가능한 형태로 변환**해야 한다.\n",
    "\n",
    "유사한 개념으로는:\n",
    "* data cleansing - 데이터에 잘 못된 오류가 있으면 **정제**한다는 의미 \n",
    "* pre-processing - 데이터를 **사전처리해서 머신러닝**을 함. 정규화, 데이터속성 추출, 데이터 선별 등.\n",
    "* data wrangling or munging - 원시데이터를 원하는 **분석가능한 형식**으로 변환\n",
    "* ETL 수집된 데이터로부터 필요한 정보항목 또는 속성을 추출하고, 분석에 필요한 구조로 변환하여 저장하거나 모델의 입력으로 사용하는 절차를 ETL (Extract, Transform, Load)이라고 한다.\n",
    "\n",
    "보통 데이터는 **행과 열로 구조화**되어 있다. 즉 데이터 속성에 해당 하는 값이 하나씩 행으로 저장되어 있다. 각 값에 형식이 불일치하거나, 유실되었거나 정리하여 원하는 형태로 만든다. 보통은 **파이프라인 방식**으로 추출하거나, 걸러내거나, 변환하거나, 정렬하거나 하는 절차를 메모리에 부담가지 않게 하는 기능을 사용한다.\n",
    "\n",
    "반면 빅데이터는 정량데이터가 아닌 경우가 많다. 소셜미디어, 뉴스, 블로그, 댓글 등 **텍스트**로 작성되어 **비구조적**이다. 텍스트는 명사, 동사, 형용사와 같은 품사를 구분하기도 한다. 또한 단어의 유무 또는 갯수 등을 정량화하여, **단어 벡터, Word vector**로 만들어 분석에 사용할 수 있다. \n",
    "\n"
   ]
  },
  {
   "cell_type": "markdown",
   "metadata": {
    "slideshow": {
     "slide_type": "subslide"
    }
   },
   "source": [
    "### 1.4.4 데이터 저장\n",
    "\n",
    "수집한 데이터는 **저장한 후 분석하는 방식**이 있다.\n",
    "\n",
    "* 데이터베이스\n",
    "    * 많이 사용해 왔던 데이터베이스, MySql과 같은 관계형데이터베이스를 활용할 수 있다. SQL언어를 이용해 데이터를 읽고, 쓰고할 수 있다.\n",
    "    * NoSQL 데이터베이스는 JSON 형식으로 발생하는 데이터를 편리하게, 스키마 또는 모델링 없이 사용한다.\n",
    "* 파일\n",
    "    * 바이너리 형식으로 HDFS, 하둡데이터 파일시스템을 예로 들 수 있다. 텍스트파일에 비해 매우 빠르고 대량의 데이터를 처리하기 편리하다.\n",
    "    * 텍스트 형식으로 CSV, XML, HTML을 저장하고 파일을 열면 내용을 볼 수 있다\n",
    "\n",
    "반면 저장하지 않고 바로 분석할 수 있는 **스트리밍 방식**을 사용할 수 있다."
   ]
  },
  {
   "cell_type": "markdown",
   "metadata": {
    "slideshow": {
     "slide_type": "subslide"
    }
   },
   "source": [
    "### 1.4.5 데이터분석 - '문제'에 대해 답을 찾기 위해, 가능한 대안을 찾아서 검증하는 과정\n",
    "\n",
    "#### 반복적 절차\n",
    "앞서 데이터가 수집되고, 분석가능한 형식으로 변환되면 비로서 분석이 시작된다.\n",
    "그렇다고 데이터 수집이 끝난 것은 아니다. 분석을 하다보면 새로이 데이터가 필요하게 될 수 있고 그렇다면 앞 단계로 돌아가 데이터를 새로 수집해야 한다. 즉 '폭포수' 방식과 같이 앞 단계로 못 돌아가는 것이 아니라 반복적으로 수행한다."
   ]
  },
  {
   "cell_type": "markdown",
   "metadata": {
    "slideshow": {
     "slide_type": "subslide"
    }
   },
   "source": [
    "\n",
    "#### 탐색\n",
    "\n",
    "분석에 앞서 데이터가 올바른 형식으로 되어있는지, 즉 문자인지 소수값인지 특수문자가 섞여 있는지 등을 확인한다.\n",
    "결측 값이란 사고 원인 불명, 좋아하는 음식이 없거나 관측 값이 없는 경우인데 평균을 계산하거나 모델링에 영향을 미칠 수 밖에 없으므로 주의한다.\n",
    "'깨끗한' 데이터는 보통 먼저 평균, 표준편차, 데이터 개수 등을 살펴 본다. 히스토그램, 스캐터플롯 등 도표로 그려볼 수 있다.\n",
    "**'아웃라이어 Outliers'**는 이상 값을 말한다. 몸무게가 평균의 표준편차를 3배 정도 넘어가면 이상 값일 수 있다. 이런 값도 살펴 검증 및 분석이 편향되지 않도록 주의한다.\n",
    "\n",
    "#### 분석\n",
    "\n",
    "통계, 머신러닝 등을 활용할 수 있다.\n",
    "한 걸음 더 나아가 **예측**, 누가 뭐래도 분석의 꽃은 예측이다. 새로운 커피 상품을 내 놓으려고 한다. '얼마나 팔릴 것인가?' 이 질문이야말로 정확히 답할 수 있다면 위험을 상당히 줄여줄 수 있다.\n",
    "\n",
    "* Supervised ML: decision tree 등\n",
    "* Unsupervised ML: clustering 등\n",
    "* network graph\n",
    "* recommendation\n",
    "* mapreduce -> hadoop, pyspark\n",
    "* apache libcloud, scrapy\n",
    "\n",
    "빅데이터를 분석하기 위해서는 분산구조가 필요하게 된다. 이 강의에서는 빅데이터를 분석하기 위해 사용하는 Spark를 실습 한다."
   ]
  },
  {
   "cell_type": "markdown",
   "metadata": {
    "slideshow": {
     "slide_type": "subslide"
    }
   },
   "source": [
    "### 1.4.6 데이터시각화\n",
    "\n",
    "데이터 분석결과는 보고 및 의사소통되어야 한다.\n",
    "주로 많이 쓰이는 **그래프**, **테이블** 등을 이용해여 결과를 만든다.\n",
    "빅데이터 시대에는 새로운 미디어, 즉 **지도** 또는 **워드클라우드**를 사용하기도 한다.\n",
    "또는 보다 동적으로 자바스크립트, **D3**와 같은 라이브러리를 이용하여 상호작용이 가능한 결과로 시각화하기도 한다."
   ]
  },
  {
   "cell_type": "markdown",
   "metadata": {
    "slideshow": {
     "slide_type": "slide"
    }
   },
   "source": [
    "## 1.6 환경\n",
    "\n",
    "구분 | 설명\n",
    "-----|-----\n",
    "운영체제 | 윈도우 또는 리눅스 (추천)\n",
    "프로그래밍 언어 | Python 2.7+ (추천), Python 3.0+는 사용하지 않는다.\n",
    "Editor | Jupyter Notebook\n",
    "소스관리 | git\n",
    "\n",
    "* Python: anaconda 설치\n",
    "* Project Directory 설정\n",
    "\n",
    "```python\n",
    "Code/\n",
    "    spark-1.6.0-bin-hadoop2.6\n",
    "    s-2015xxxxx/\n",
    "        /src\n",
    "        /lib\n",
    "        /doc\n",
    "\n",
    "~/.ipython/kernels/pyspark/kernel.json\n",
    "```"
   ]
  },
  {
   "cell_type": "markdown",
   "metadata": {
    "slideshow": {
     "slide_type": "slide"
    }
   },
   "source": [
    "## 문제 시작-1: 전문점 커피에 대한 미디어 광고 전략을 계획\n",
    "\n",
    "다음 장부터 시작되는 본격적인 강의 및 실습에 앞서, '몸풀기' 느낌으로 문제를 풀어본다.\n",
    "문제를 정확히 이해하고 어떤 해결방안이 적합한지 검토한다.\n",
    "**문제기술서를 자신이 작성**해본다.\n",
    "\n",
    "### 문제와 해결방안\n",
    "\n",
    "* 커피전문점 매출이 떨어지고 있다. 대화에서 소규모 모임 또는 공부하는 장소로 성격이 바뀌고 있다.\n",
    "* 이런 상황에서 커피광고 메시지를 결정하려고 한다.\n",
    "* 커피 의견주도층이 많이 사용하는 SNS에서 관련 단어를 분석한다.\n"
   ]
  },
  {
   "cell_type": "markdown",
   "metadata": {
    "slideshow": {
     "slide_type": "subslide"
    }
   },
   "source": [
    "### 문제를 정의한다.\n",
    "\n",
    "* 인스턴트 커피, 프리미엄 커피와 다른 포지셔닝 전략.\n",
    "* 커피의 의견주도층은 SNS를 많이 쓰는 2535세대.\n",
    "* 캔커피에 대해서는 맛없고 해롭다는 생각이지만 전문점 커피는 비싸지만 여유롭게 시간을 보내거나 소규모 모임을 하기 편리.\n",
    "* 어떤 감성에 소구할 것인가? 호감도가 높은 연예인이 나와서 여유로움, 전문가가 열심히 일하면서 생각에 잠기는 장면, 계절에 맞는 시원한 아이스 커피 등.\n",
    "* D사 M제품 홍보에서는 다양한 연령대의 모델이 사랑과 화해, 친밀감, 이해, 여유로움을 시리즈로 '엄마의 애증', '부자의 이해', '부부의 화해', '청춘의 심호흡'을 연기.\n",
    "* 자사 제품에 맞는 포지셔닝을 결정하기 위해, 커피와 연관단어를 분석하는 문제."
   ]
  },
  {
   "cell_type": "markdown",
   "metadata": {
    "slideshow": {
     "slide_type": "subslide"
    }
   },
   "source": [
    "### 커피와 관련된 단어가 무엇일까?\n",
    "\n",
    "* SNS에서 관련 글을 복사했고, 여기서 아이디어를 찾아보자.\n",
    "\n",
    "번호 | SNS 게시글\n",
    "-----|-----\n",
    "1 | 진동벨 좀 만들었으면 좋겠다 2층 매장이라 결국 손님이 어딨는지는 몰라서 그저 열심히 목터져가며 소리지르는게 전부임 넘 안쓰럽다 그리고 픽업 장소 옆은 시장통임 북적북적\n",
    "2 | 옆 동네 스타벅스 왔다,,, 무려 노트북 들고,,,,!\n",
    "3 | 스타벅스에 있다가 나오면 머리카락에 커피향기가 배는데 안에 있을 땐 모르겠다가 밖에 나와서 머리카락이 흔들릴 때마다 느껴지는 거 너무 좋아\n",
    "4 | 저도...마싯는 커피 마시고 싶어여...훌젹ㅋㅋㅋ 막 요즘 로스팅 전문적으로 하는 데 가서 마시구 싶고 그러네요 근데 어떤데 있는질 몰라서... 합정 상수 부근 쪽 찾아볼가여?\n",
    "5 | 예전에는 스타벅스가 비싸다는 인식이 있었는데 카페들이 가격들이 다 똑같은듯\n",
    "6 | 저도 그렇게 섬세한 입맛은 아니라서 ㅋㅋ 가격대만큼 맛을 찾아낼 수 있을지는 의문이네요...ㅋㅋㅋ평범한  곳 가도 갠찬아여! 엄청 맛 없는 것만 아니라면야 ㅋㅋㅋ\"\"\""
   ]
  },
  {
   "cell_type": "markdown",
   "metadata": {
    "slideshow": {
     "slide_type": "subslide"
    }
   },
   "source": [
    "### 관련된 단어를 분석하려면 빈도를 계산한다.\n",
    "\n",
    "* 종이를 꺼내거나 엑셀에 빈도를 표시\n",
    "* 분량이 많아지면 프로그래밍이 필수"
   ]
  },
  {
   "cell_type": "markdown",
   "metadata": {
    "slideshow": {
     "slide_type": "slide"
    }
   },
   "source": [
    "## 문제 시작-2: 커피 관련 글에서 단어 세기\n",
    "\n",
    "* source: data_strcutre.ipynb\n",
    "* 프로그래밍 환경을 준비한다.\n",
    "* ipython notebook에서 word count를 한다.\n",
    "* 프로그램을 만들고 실행한다."
   ]
  },
  {
   "cell_type": "markdown",
   "metadata": {
    "slideshow": {
     "slide_type": "subslide"
    }
   },
   "source": [
    "### 단어 세기\n",
    "\n",
    "* 문장을 합쳐서 문자열 데이터로 만든다."
   ]
  },
  {
   "cell_type": "code",
   "execution_count": 17,
   "metadata": {},
   "outputs": [],
   "source": [
    "sent = u\"\"\"진동벨 좀 만들었으면 좋겠다 2층 매장이라 결국 손님이 어딨는지는 몰라서 그저 열심히 목터져가며 소리지르는게 전부임 넘 안쓰럽다 그리고 픽업 장소 옆은 시장통임 북적북적\n",
    "옆 동네 스타벅스 왔다,,, 무려 노트북 들고,,,,!\n",
    "스타벅스에 있다가 나오면 머리카락에 커피향기가 배는데 안에 있을 땐 모르겠다가 밖에 나와서 머리카락이 흔들릴 때마다 느껴지는 거 너무 좋아\n",
    "저도...마싯는 커피 마시고 싶어여...훌젹ㅋㅋㅋ 막 요즘 로스팅 전문적으로 하는 데 가서 마시구 싶고 그러네요 근데 어떤데 있는질 몰라서... 합정 상수 부근 쪽 찾아볼가여?\n",
    "예전에는 스타벅스가 비싸다는 인식이 있었는데 카페들이 가격들이 다 똑같은듯\n",
    "저도 그렇게 섬세한 입맛은 아니라서 ㅋㅋ 가격대만큼 맛을 찾아낼 수 있을지는 의문이네요...ㅋㅋㅋ평범한  곳 가도 갠찬아여! 엄청 맛 없는 것만 아니라면야 ㅋㅋㅋ\"\"\""
   ]
  },
  {
   "cell_type": "markdown",
   "metadata": {
    "slideshow": {
     "slide_type": "subslide"
    }
   },
   "source": [
    "* 조사같은 의미없는 부분 빼기로 한다.\n",
    "* 품사를 분석하는 SW를 사용하지 않고 수작업으로 한다."
   ]
  },
  {
   "cell_type": "code",
   "execution_count": 18,
   "metadata": {
    "slideshow": {
     "slide_type": "-"
    }
   },
   "outputs": [],
   "source": [
    "sent = u\"\"\"진동벨 좀 만들었으면 좋겠다 2층 매장이라 결국 손님 어딨는지는 몰라서 그저 열심히 목터져가며 소리지르는게 전부임 넘 안쓰럽다 그리고 픽업 장소 옆은 시장통임 북적북적\n",
    "옆 동네 스타벅스 왔다,,, 무려 노트북 들고,,,,!\n",
    "스타벅스 있다가 나오면 머리카락 커피향기 배는데 안에 있을 땐 모르겠다가 밖에 나와서 머리카락 흔들릴 때마다 느껴지는 거 너무 좋아\n",
    "저도...마싯는 커피 마시고 싶어여...훌젹 ㅋㅋㅋ 막 요즘 로스팅 전문 하는 데 가서 마시구 싶고 그러네요 근데 어떤데 있는질 몰라서... 합정 상수 부근 쪽 찾아볼가여?\n",
    "예전에는 스타벅스 비싸다는 인식 있었는데 카페 가격 다 똑같은듯\n",
    "저도 그렇게 섬세한 입맛 아니라서 ㅋㅋ 가격 맛 찾아낼 수 있을지는 의문이네요...ㅋㅋㅋ 평범한  곳 가도 갠찬아여! 엄청 맛 없는 것만 아니라면야 ㅋㅋㅋ\"\"\""
   ]
  },
  {
   "cell_type": "code",
   "execution_count": 19,
   "metadata": {
    "slideshow": {
     "slide_type": "subslide"
    }
   },
   "outputs": [
    {
     "name": "stdout",
     "output_type": "stream",
     "text": [
      "진동벨\n",
      "좀\n",
      "만들었으면\n",
      "좋겠다\n",
      "2층\n",
      "매장이라\n",
      "결국\n",
      "손님\n",
      "어딨는지는\n",
      "몰라서\n",
      "그저\n",
      "열심히\n",
      "목터져가며\n",
      "소리지르는게\n",
      "전부임\n",
      "넘\n",
      "안쓰럽다\n",
      "그리고\n",
      "픽업\n",
      "장소\n",
      "옆은\n",
      "시장통임\n",
      "북적북적\n",
      "옆\n",
      "동네\n",
      "스타벅스\n",
      "왔다,,,\n",
      "무려\n",
      "노트북\n",
      "들고,,,,!\n",
      "스타벅스\n",
      "있다가\n",
      "나오면\n",
      "머리카락\n",
      "커피향기\n",
      "배는데\n",
      "안에\n",
      "있을\n",
      "땐\n",
      "모르겠다가\n",
      "밖에\n",
      "나와서\n",
      "머리카락\n",
      "흔들릴\n",
      "때마다\n",
      "느껴지는\n",
      "거\n",
      "너무\n",
      "좋아\n",
      "저도...마싯는\n",
      "커피\n",
      "마시고\n",
      "싶어여...훌젹\n",
      "ㅋㅋㅋ\n",
      "막\n",
      "요즘\n",
      "로스팅\n",
      "전문\n",
      "하는\n",
      "데\n",
      "가서\n",
      "마시구\n",
      "싶고\n",
      "그러네요\n",
      "근데\n",
      "어떤데\n",
      "있는질\n",
      "몰라서...\n",
      "합정\n",
      "상수\n",
      "부근\n",
      "쪽\n",
      "찾아볼가여?\n",
      "예전에는\n",
      "스타벅스\n",
      "비싸다는\n",
      "인식\n",
      "있었는데\n",
      "카페\n",
      "가격\n",
      "다\n",
      "똑같은듯\n",
      "저도\n",
      "그렇게\n",
      "섬세한\n",
      "입맛\n",
      "아니라서\n",
      "ㅋㅋ\n",
      "가격\n",
      "맛\n",
      "찾아낼\n",
      "수\n",
      "있을지는\n",
      "의문이네요...ㅋㅋㅋ\n",
      "평범한\n",
      "곳\n",
      "가도\n",
      "갠찬아여!\n",
      "엄청\n",
      "맛\n",
      "없는\n",
      "것만\n",
      "아니라면야\n",
      "ㅋㅋㅋ\n"
     ]
    }
   ],
   "source": [
    "for c in sent.split():\n",
    "    print (c)"
   ]
  },
  {
   "cell_type": "markdown",
   "metadata": {
    "slideshow": {
     "slide_type": "subslide"
    }
   },
   "source": [
    "* sent.split()는 문장을 단어로 분리한다.\n",
    "* 각 단어를 키로, 단어수를 값으로 저장한다. 단어가 이미 있으면 1을 더한다."
   ]
  },
  {
   "cell_type": "code",
   "execution_count": 20,
   "metadata": {},
   "outputs": [],
   "source": [
    "d = dict()\n",
    "for c in sent.split():\n",
    "    if c not in d:\n",
    "        d[c]=1\n",
    "    else:\n",
    "        d[c]=d[c]+1"
   ]
  },
  {
   "cell_type": "markdown",
   "metadata": {
    "slideshow": {
     "slide_type": "subslide"
    }
   },
   "source": [
    "* 빈도가 2이상인 경우만 별도로 분리하여 저장한다. 이 데이터로 곧 그래프를 그리게 된다.\n",
    "* 반복문에 iteritems()함수를 사용하여 하나씩 단어를 가져온다."
   ]
  },
  {
   "cell_type": "code",
   "execution_count": 21,
   "metadata": {},
   "outputs": [
    {
     "name": "stdout",
     "output_type": "stream",
     "text": [
      "스타벅스 3\n",
      "머리카락 2\n",
      "ㅋㅋㅋ 2\n",
      "가격 2\n",
      "맛 2\n"
     ]
    }
   ],
   "source": [
    "d1 = dict()\n",
    "for key, value in d.items():\n",
    "    if value > 1:\n",
    "        d1[key] = value\n",
    "        print (key, value)"
   ]
  },
  {
   "cell_type": "markdown",
   "metadata": {
    "slideshow": {
     "slide_type": "subslide"
    }
   },
   "source": [
    "* 단어수가 2이상인 경우만 그래프를 그려본다.\n",
    "    * x축은 키를 (단어)\n",
    "    * y축은 키 값을 넣는다 (단어의 빈도수)"
   ]
  },
  {
   "cell_type": "code",
   "execution_count": 23,
   "metadata": {
    "scrolled": true
   },
   "outputs": [
    {
     "data": {
      "image/png": "[encoded data removed]",
      "text/plain": [
       "<Figure size 432x288 with 1 Axes>"
      ]
     },
     "metadata": {
      "needs_background": "light"
     },
     "output_type": "display_data"
    }
   ],
   "source": [
    "%matplotlib inline\n",
    "\n",
    "import matplotlib\n",
    "import matplotlib.pyplot as plt\n",
    "from matplotlib import rc\n",
    "rc('font', family='AppleGothic')\n",
    "plt.rcParams['axes.unicode_minus'] = False\n",
    "\n",
    "plt.bar(range(len(d1)), d1.values(), align = 'center')\n",
    "plt.xticks(range(len(d1)), list(d1.keys()))\n",
    "plt.show()"
   ]
  },
  {
   "cell_type": "code",
   "execution_count": null,
   "metadata": {},
   "outputs": [],
   "source": []
  }
 ],
 "metadata": {
  "celltoolbar": "Slideshow",
  "kernelspec": {
   "display_name": "Python 3",
   "language": "python",
   "name": "python3"
  },
  "language_info": {
   "codemirror_mode": {
    "name": "ipython",
    "version": 3
   },
   "file_extension": ".py",
   "mimetype": "text/x-python",
   "name": "python",
   "nbconvert_exporter": "python",
   "pygments_lexer": "ipython3",
   "version": "3.6.8"
  }
 },
 "nbformat": 4,
 "nbformat_minor": 1
}
